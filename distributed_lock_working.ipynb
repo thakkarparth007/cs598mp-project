{
 "cells": [
  {
   "cell_type": "code",
   "execution_count": 1,
   "metadata": {},
   "outputs": [],
   "source": [
    "from z3 import *\n",
    "from tqdm import tqdm\n",
    "import itertools"
   ]
  },
  {
   "cell_type": "markdown",
   "metadata": {},
   "source": [
    "## Sorts"
   ]
  },
  {
   "cell_type": "code",
   "execution_count": 2,
   "metadata": {},
   "outputs": [],
   "source": [
    "# create uninterpreted sort Node and Epoch\n",
    "Node = DeclareSort('Node')\n",
    "Epoch = DeclareSort('Epoch')"
   ]
  },
  {
   "cell_type": "markdown",
   "metadata": {},
   "source": [
    "## State and Model"
   ]
  },
  {
   "cell_type": "code",
   "execution_count": 3,
   "metadata": {},
   "outputs": [
    {
     "data": {
      "text/plain": [
       "<__main__.DistLockState at 0x7f3add6b3190>"
      ]
     },
     "execution_count": 3,
     "metadata": {},
     "output_type": "execute_result"
    }
   ],
   "source": [
    "class DistLockState():\n",
    "    def __init__(self, name):\n",
    "        self.name = name\n",
    "\n",
    "        # relations\n",
    "        self.ep = Function(f'{name}.ep', Node, Epoch)\n",
    "        self.held = Function(f'{name}.held', Node, BoolSort())\n",
    "        self.transfer = Function(f'{name}.transfer', Epoch, Node, BoolSort())\n",
    "        self.locked = Function(f'{name}.locked', Epoch, Node, BoolSort())\n",
    "\n",
    "DistLockState('test_pre') # only for testing"
   ]
  },
  {
   "cell_type": "code",
   "execution_count": 4,
   "metadata": {},
   "outputs": [
    {
     "data": {
      "text/html": [
       "&forall;e1, e2, e3 :\n",
       " le(e1, e1) &and;\n",
       " (le(e1, e2) &and; le(e2, e3) &rArr; le(e1, e3)) &and;\n",
       " (le(e1, e2) &and; le(e2, e1) &rArr; e1 = e2) &and;\n",
       " (le(e1, e2) &or; le(e2, e1)) &and;\n",
       " le(zero, e1) &and;\n",
       " one &ne; zero"
      ],
      "text/plain": [
       "ForAll([e1, e2, e3],\n",
       "       And(le(e1, e1),\n",
       "           Implies(And(le(e1, e2), le(e2, e3)), le(e1, e3)),\n",
       "           Implies(And(le(e1, e2), le(e2, e1)), e1 == e2),\n",
       "           Or(le(e1, e2), le(e2, e1)),\n",
       "           le(zero, e1),\n",
       "           one != zero))"
      ]
     },
     "execution_count": 4,
     "metadata": {},
     "output_type": "execute_result"
    }
   ],
   "source": [
    "class DistLockModel():\n",
    "    def __init__(self):\n",
    "        # constants\n",
    "        self.le = Function(f'le', Epoch, Epoch, BoolSort())\n",
    "        self.zero = Const(f'zero', Epoch)\n",
    "        self.one = Const(f'one', Epoch)\n",
    "        self.first = Const(f'first', Node)\n",
    "\n",
    "        self.states = {}\n",
    "    \n",
    "    def get_state(self, name):\n",
    "        if name not in self.states:\n",
    "            self.states[name] = DistLockState(name)\n",
    "        return self.states[name]\n",
    "    \n",
    "    def get_axioms(self):\n",
    "        e1, e2, e3 = Consts('e1 e2 e3', Epoch)\n",
    "        \n",
    "        Axioms = ForAll([e1, e2, e3],\n",
    "            And(\n",
    "                # reflexivity\n",
    "                self.le(e1, e1),\n",
    "                # transitivity\n",
    "                Implies(And(self.le(e1, e2), self.le(e2, e3)), self.le(e1, e3)),\n",
    "                # antisymmetry\n",
    "                Implies(And(self.le(e1, e2), self.le(e2, e1)), e1 == e2),\n",
    "                # totality\n",
    "                Or(self.le(e1, e2), self.le(e2, e1)),\n",
    "\n",
    "                # zero\n",
    "                self.le(self.zero, e1),\n",
    "                self.one != self.zero,\n",
    "            ),\n",
    "        )\n",
    "\n",
    "        return Axioms\n",
    "    \n",
    "    def get_init_state_cond(self):\n",
    "        S = self.get_state('init')\n",
    "\n",
    "        n = Const('n', Node)\n",
    "        e = Const('e', Epoch)\n",
    "\n",
    "        cond = ForAll([n, e],\n",
    "            And(\n",
    "                S.held(n) == (n == self.first),\n",
    "                Implies(n != self.first, S.ep(n) == self.zero),\n",
    "                S.ep(self.first) == self.one,\n",
    "                S.transfer(e, n) == False,\n",
    "                S.locked(e, n) == False,\n",
    "            )\n",
    "        )\n",
    "\n",
    "        return cond\n",
    "    \n",
    "    def get_interp(self, model: ModelRef):\n",
    "        # create a dict of all the functions\n",
    "        interp = {}\n",
    "        for f in model.decls():\n",
    "            interp[f.name()] = model.get_interp(f)\n",
    "        \n",
    "        return interp\n",
    "\n",
    "M = DistLockModel()\n",
    "M.get_axioms() # only for testing"
   ]
  },
  {
   "cell_type": "markdown",
   "metadata": {},
   "source": [
    "## Invariants"
   ]
  },
  {
   "cell_type": "markdown",
   "metadata": {},
   "source": [
    "### Swiss Invariants"
   ]
  },
  {
   "cell_type": "code",
   "execution_count": 5,
   "metadata": {},
   "outputs": [],
   "source": [
    "def inv_fn_0(M, S, model = None, nodes = None, epochs = None):\n",
    "    def body(N, E):\n",
    "        return Implies(S.locked(E,N),S.transfer(E,N))\n",
    "    \n",
    "    if nodes is not None:\n",
    "        return all([model.eval(body(n,e)) for n in nodes for e in epochs])\n",
    "    else:\n",
    "        N = Const('N', Node)\n",
    "        E = Const('E', Epoch)\n",
    "        inv = ForAll([N, E], body(N, E))\n",
    "        return inv\n",
    "\n",
    "def inv_fn_1(M, S, model=None, nodes=None, epochs=None):\n",
    "    \"\"\"\n",
    "    conjecture (held(N) & held(M) -> N=M)\n",
    "        & ((transfer(E1, N1) & ~le(E1, ep(N1)) & transfer(E2, N2) & ~le(E2, ep(N2))) -> (E1=E2 & N1=N2))\n",
    "        & (( transfer(E1, N1) & ~le(E1, ep(N1))) -> ~held(N2))\n",
    "    \"\"\"\n",
    "    N, eM, N1, N2 = Consts('N M N1 N2', Node)\n",
    "    E1, E2 = Consts('E1 E2', Epoch)\n",
    "\n",
    "    def body(N, eM, N1, N2, E1, E2):\n",
    "        return And(\n",
    "            Implies(\n",
    "                And(S.held(N), S.held(eM)),\n",
    "                N == eM\n",
    "            ),\n",
    "            Implies(\n",
    "                And(\n",
    "                    S.transfer(E1, N1),\n",
    "                    Not(M.le(E1, S.ep(N1))),\n",
    "                    S.transfer(E2, N2),\n",
    "                    Not(M.le(E2, S.ep(N2)))\n",
    "                ),\n",
    "                And(\n",
    "                    E1 == E2,\n",
    "                    N1 == N2,\n",
    "                )\n",
    "            ),\n",
    "            Implies(\n",
    "                And(\n",
    "                    S.transfer(E1, N1),\n",
    "                    Not(M.le(E1, S.ep(N1)))\n",
    "                ),\n",
    "                Not(S.held(N2))\n",
    "            )\n",
    "        )\n",
    "    \n",
    "    if nodes is not None:\n",
    "        return all([model.eval(body(n,eM,n1,n2,e1,e2)) for n, eM, n1, n2, e1, e2 in itertools.product(nodes, nodes, nodes, nodes, epochs, epochs)])\n",
    "\n",
    "    inv = ForAll([N, eM, N1, N2, E1, E2], body(N, eM, N1, N2, E1, E2))\n",
    "    return inv\n",
    "\n",
    "def inv_fn_2(M, S, model=None, nodes=None, epochs=None):\n",
    "    \"\"\"\n",
    "    conjecture (( transfer(E, N) & ~le(E, ep(N))) & transfer(E1, N1) & (N~=N1 | E~=E1) -> ~le(E,E1))\n",
    "            & (held(N) & transfer(E1,N1) -> le(E1,ep(N)))\n",
    "    \"\"\"\n",
    "\n",
    "    N, N1 = Consts('N N1', Node)\n",
    "    E, E1 = Consts('E E1', Epoch)\n",
    "\n",
    "    def body(N, N1, E, E1):\n",
    "        return And(\n",
    "            Implies(\n",
    "                And(\n",
    "                    S.transfer(E, N),\n",
    "                    Not(M.le(E, S.ep(N))),\n",
    "                    S.transfer(E1, N1),\n",
    "                    Or(\n",
    "                        Not(N == N1),\n",
    "                        Not(E == E1)\n",
    "                    ),\n",
    "                ),\n",
    "                Not(M.le(E, E1))\n",
    "            ),\n",
    "            Implies(\n",
    "                And(S.held(N), S.transfer(E1, N1)),\n",
    "                M.le(E1, S.ep(N))\n",
    "            )\n",
    "        )\n",
    "\n",
    "    if nodes is not None:\n",
    "        return all([model.eval(body(n,n1,e,e1)) for n, n1, e, e1 in itertools.product(nodes, nodes, epochs, epochs)])\n",
    "\n",
    "    inv = ForAll([N, N1, E, E1], body(N, N1, E, E1))\n",
    "    return inv\n",
    "\n",
    "def inv_fn_3(M, S, model=None, nodes=None, epochs=None):\n",
    "    \"\"\"\n",
    "    conjecture (( transfer(E, N) & ~le(E, ep(N))) -> ~le(E, ep(N1)))\n",
    "            & (held(N) -> le(ep(N1), ep(N)))\n",
    "    \"\"\"\n",
    "\n",
    "    N, N1 = Consts('N N1', Node)\n",
    "    E = Const('E', Epoch)\n",
    "\n",
    "    def body(N, N1, E):\n",
    "        return And(\n",
    "            Implies(\n",
    "                And(\n",
    "                    S.transfer(E, N),\n",
    "                    Not(M.le(E, S.ep(N))),\n",
    "                ),\n",
    "                Not(M.le(E, S.ep(N1)))\n",
    "            ),\n",
    "            Implies(\n",
    "                S.held(N),\n",
    "                M.le(S.ep(N1), S.ep(N))\n",
    "            )\n",
    "        )\n",
    "    \n",
    "    if nodes is not None:\n",
    "        return all([model.eval(body(n,n1,e)) for n, n1, e in itertools.product(nodes, nodes, epochs)])\n",
    "\n",
    "    inv = ForAll([N, N1, E], body(N, N1, E))\n",
    "    return inv\n",
    "\n",
    "swiss_invars = [inv_fn_0, inv_fn_1, inv_fn_2, inv_fn_3]"
   ]
  },
  {
   "cell_type": "markdown",
   "metadata": {},
   "source": [
    "### DistAI invariants"
   ]
  },
  {
   "cell_type": "code",
   "execution_count": 6,
   "metadata": {},
   "outputs": [],
   "source": [
    "invariants = \"\"\"\n",
    "le(E1, E2) & E1 ~= E2 -> le(E1,ep(N1)) | ~le(E2,ep(N1))\n",
    "le(E1, E2) & E1 ~= E2 -> locked(E1,N1) | ~transfer(E1,N1) | ~transfer(E2,N1)\n",
    "le(E1, E2) & E1 ~= E2 -> locked(E1,N1) | ~transfer(E1,N1) | ~le(E2,ep(N1))\n",
    "le(E1, E2) & E1 ~= E2 -> le(E1,ep(N1)) | ~locked(E2,N1)\n",
    "le(E1, E2) & E1 ~= E2 -> locked(E1,N1) | ~transfer(E1,N1) | ~locked(E2,N1)\n",
    "le(E1, E2) & E1 ~= E2 -> le(E1,ep(N1)) | ~transfer(E1,N1) | ~transfer(E2,N1)\n",
    "le(E1, E2) & E1 ~= E2 & N1 ~= N2 -> ~le(E2,ep(N1)) | ~le(ep(N1),ep(N2)) | ~le(ep(N2),ep(N1))\n",
    "le(E1, E2) & E1 ~= E2 & N1 ~= N2 -> le(E1,ep(N1)) | le(ep(N1),ep(N2)) | ~locked(E2,N2)\n",
    "le(E1, E2) & E1 ~= E2 & N1 ~= N2 -> le(E1,ep(N1)) | ~transfer(E1,N1) | ~locked(E2,N2)\n",
    "le(E1, E2) & E1 ~= E2 & N1 ~= N2 -> locked(E1,N1) | ~transfer(E1,N1) | ~le(E2,ep(N2))\n",
    "le(E1, E2) & E1 ~= E2 & N1 ~= N2 -> le(E1,ep(N1)) | ~held(N2) | ~transfer(E2,N1)\n",
    "le(E1, E2) & E1 ~= E2 & N1 ~= N2 -> le(E1,ep(N1)) | ~transfer(E1,N1) | ~le(E2,ep(N2))\n",
    "le(E1, E2) & E1 ~= E2 & N1 ~= N2 -> le(E1,ep(N1)) | ~locked(E2,N2) | ~le(ep(N2),ep(N1))\n",
    "le(E1, E2) & E1 ~= E2 & N1 ~= N2 -> locked(E1,N1) | ~transfer(E1,N1) | ~transfer(E2,N2)\n",
    "le(E1, E2) & E1 ~= E2 & N1 ~= N2 -> le(E1,ep(N1)) | le(ep(N1),ep(N2)) | ~le(E2,ep(N2))\n",
    "le(E1, E2) & E1 ~= E2 & N1 ~= N2 -> le(E1,ep(N1)) | ~transfer(E1,N1) | ~transfer(E2,N2)\n",
    "le(E1, E2) & E1 ~= E2 & N1 ~= N2 -> le(E1,ep(N1)) | ~transfer(E2,N1) | ~le(E2,ep(N2))\n",
    "le(E1, E2) & E1 ~= E2 & N1 ~= N2 -> le(E1,ep(N1)) | ~le(ep(N2),ep(N1)) | ~le(E2,ep(N2))\n",
    "le(E1, E2) & E1 ~= E2 & N1 ~= N2 -> locked(E1,N1) | ~transfer(E1,N1) | ~locked(E2,N2)\n",
    "locked(E1,N1) | ~transfer(E1,N1) | ~le(E1,ep(N1))\n",
    "locked(E1,N1) | ~held(N1) | ~transfer(E1,N1)\n",
    "le(E1,ep(N1)) | ~held(N1) | ~transfer(E1,N1)\n",
    "transfer(E1,N1) | ~locked(E1,N1)\n",
    "le(E1,ep(N1)) | ~locked(E1,N1)\n",
    "N1 ~= N2 -> ~le(ep(N1),ep(N2)) | ~le(ep(N2),ep(N1)) | ~first=N1\n",
    "N1 ~= N2 -> le(E1,ep(N1)) | le(ep(N1),ep(N2)) | ~locked(E1,N2)\n",
    "N1 ~= N2 -> le(E1,ep(N1)) | le(ep(N1),ep(N2)) | ~le(E1,ep(N2))\n",
    "N1 ~= N2 -> le(ep(N1),ep(N2)) | ~held(N2)\n",
    "N1 ~= N2 -> ~held(N1) | ~le(ep(N1),ep(N2))\n",
    "N1 ~= N2 -> locked(E1,N1) | ~held(N2) | ~transfer(E1,N1)\n",
    "N1 ~= N2 -> le(ep(N1),ep(N2)) | le(ep(N2),ep(N1))\n",
    "N1 ~= N2 -> le(E1,ep(N1)) | ~locked(E1,N2) | ~le(ep(N2),ep(N1))\n",
    "N1 ~= N2 -> ~held(N1) | ~held(N2)\n",
    "N1 ~= N2 -> locked(E1,N1) | ~transfer(E1,N1) | ~le(E1,ep(N2))\n",
    "N1 ~= N2 -> ~locked(E1,N1) | ~locked(E1,N2)\n",
    "N1 ~= N2 -> ~first=N1 | ~first=N2\n",
    "N1 ~= N2 -> ~transfer(E1,N1) | ~transfer(E1,N2)\n",
    "N1 ~= N2 -> le(E1,ep(N1)) | ~held(N1) | ~transfer(E1,N2)\n",
    "N1 ~= N2 -> ~transfer(E1,N1) | ~locked(E1,N2)\n",
    "N1 ~= N2 -> ~locked(E1,N1) | ~le(ep(N1),ep(N2)) | ~le(ep(N2),ep(N1))\n",
    "N1 ~= N2 -> le(E1,ep(N1)) | ~held(N1) | ~locked(E1,N2)\n",
    "N1 ~= N2 -> le(E1,ep(N1)) | ~le(ep(N2),ep(N1)) | ~le(E1,ep(N2))\n",
    "N1 ~= N2 -> le(E1,ep(N1)) | ~held(N1) | ~le(E1,ep(N2))\n",
    "N1 ~= N2 -> le(E1,ep(N1)) | ~held(N2) | ~transfer(E1,N1)\n",
    "N1 ~= N2 -> le(E1,ep(N1)) | ~transfer(E1,N1) | ~le(E1,ep(N2))\n",
    "\"\"\".replace(\"~=\", \"!=\").strip().split(\"\\n\")\n",
    "\n",
    "def parse(inv_str, vars):\n",
    "    inv_str = inv_str.strip()\n",
    "\n",
    "    if inv_str.count(\"->\") > 1:\n",
    "        raise Exception(\"Too many ->\")\n",
    "\n",
    "    if '->' in inv_str:\n",
    "        left, right = inv_str.split('->')\n",
    "        return f\"Implies({parse(left, vars)},{parse(right, vars)})\"\n",
    "\n",
    "    if \"&\" in inv_str:\n",
    "        parts = inv_str.split(\"&\")\n",
    "        return f\"And([{','.join([parse(p, vars) for p in parts])}])\"\n",
    "\n",
    "    if \"|\" in inv_str:\n",
    "        parts = inv_str.split(\"|\")\n",
    "        return f\"Or([{','.join([parse(p, vars) for p in parts])}])\"\n",
    "\n",
    "    if \"~\" in inv_str:\n",
    "        return f\"Not({parse(inv_str[1:], vars)})\"\n",
    "\n",
    "    if \"!=\" in inv_str:\n",
    "        left, right = inv_str.split(\"!=\")\n",
    "        return f\"{parse(left, vars)} != {parse(right, vars)}\"\n",
    "    \n",
    "    if \"=\" in inv_str:\n",
    "        left, right = inv_str.split(\"=\")\n",
    "        return f\"{parse(left, vars)} == {parse(right, vars)}\"\n",
    "\n",
    "    if inv_str.endswith(\")\"):\n",
    "        first_brace_idx = inv_str.index(\"(\")\n",
    "        name = inv_str[:first_brace_idx]\n",
    "        args = inv_str[first_brace_idx+1:-1].split(\",\")\n",
    "        prefix = \"M.\" if name == 'le' else \"S.\"\n",
    "        return f\"{prefix}{name}({','.join([parse(a, vars) for a in args])})\"\n",
    "\n",
    "    if inv_str == \"first\":\n",
    "        return \"M.first\"\n",
    "\n",
    "    vars.add(inv_str)\n",
    "    return inv_str\n",
    "\n",
    "def get_inv_fn(fn_name, inv_str, only_code=False):\n",
    "    vars = set()\n",
    "    inv_fn_str = parse(inv_str, vars)\n",
    "\n",
    "    nodes = [v for v in vars if v.startswith(\"N\")]\n",
    "    epochs = [v for v in vars if v.startswith(\"E\")]\n",
    "\n",
    "    code = []\n",
    "    if len(nodes) == 1:\n",
    "        code += [nodes[0] + \" = Const('\" + nodes[0] + \"', Node)\"]\n",
    "    elif len(nodes) > 1:\n",
    "        code += [\", \".join(nodes) + \" = Consts('\" + \" \".join(nodes) + \"', Node)\"]\n",
    "    \n",
    "    if len(epochs) == 1:\n",
    "        code += [epochs[0] + \" = Const('\" + epochs[0] + \"', Epoch)\"]\n",
    "    elif len(epochs) > 1:\n",
    "        code += [\", \".join(epochs) + \" = Consts('\" + \" \".join(epochs) + \"', Epoch)\"]\n",
    "    \n",
    "    code += [\"inv = ForAll([\" + \", \".join(vars) + \"], \" + inv_fn_str + \")\"]\n",
    "    code += [\"return inv\"]\n",
    "\n",
    "    code = f\"def {fn_name}(M, S):\\n\\t\" + \"\\n\\t\".join(code)\n",
    "    if only_code:\n",
    "        return code\n",
    "\n",
    "    ldict = {}\n",
    "    exec(code)\n",
    "    exec(f\"ldict['fn'] = {fn_name}\")\n",
    "    return ldict['fn']\n",
    "\n",
    "distai_invars = [get_inv_fn(\"inv_fn_\" + str(i), inv) for i, inv in enumerate(invariants)]"
   ]
  },
  {
   "cell_type": "code",
   "execution_count": 7,
   "metadata": {},
   "outputs": [
    {
     "name": "stdout",
     "output_type": "stream",
     "text": [
      "le(E1, E2) & E1 != E2 -> le(E1,ep(N1)) | ~le(E2,ep(N1))\n"
     ]
    },
    {
     "data": {
      "text/html": [
       "&forall;N1, E1, E2 :\n",
       " le(E1, E2) &and; E1 &ne; E2 &rArr;\n",
       " le(E1, pre.ep(N1)) &or; &not;le(E2, pre.ep(N1))"
      ],
      "text/plain": [
       "ForAll([N1, E1, E2],\n",
       "       Implies(And(le(E1, E2), E1 != E2),\n",
       "               Or(le(E1, pre.ep(N1)),\n",
       "                  Not(le(E2, pre.ep(N1))))))"
      ]
     },
     "execution_count": 7,
     "metadata": {},
     "output_type": "execute_result"
    }
   ],
   "source": [
    "M = DistLockModel()\n",
    "S = M.get_state('pre')\n",
    "\n",
    "print(invariants[0])\n",
    "distai_invars[0](M, S)"
   ]
  },
  {
   "cell_type": "markdown",
   "metadata": {},
   "source": [
    "### All invariants"
   ]
  },
  {
   "cell_type": "code",
   "execution_count": 18,
   "metadata": {},
   "outputs": [],
   "source": [
    "all_invars = swiss_invars\n",
    "# all_invars = distai_invars"
   ]
  },
  {
   "cell_type": "markdown",
   "metadata": {},
   "source": [
    "## Conditions"
   ]
  },
  {
   "cell_type": "markdown",
   "metadata": {},
   "source": [
    "### Safety Condition"
   ]
  },
  {
   "cell_type": "code",
   "execution_count": 19,
   "metadata": {},
   "outputs": [
    {
     "data": {
      "text/html": [
       "&forall;e1, n1, n2 :\n",
       " pre.locked(e1, n1) &and; pre.locked(e1, n2) &rArr; n1 = n2"
      ],
      "text/plain": [
       "ForAll([e1, n1, n2],\n",
       "       Implies(And(pre.locked(e1, n1), pre.locked(e1, n2)),\n",
       "               n1 == n2))"
      ]
     },
     "execution_count": 19,
     "metadata": {},
     "output_type": "execute_result"
    }
   ],
   "source": [
    "# Inv: safety property locked(E, N1) & locked(E, N2) -> N1 = N2\n",
    "\n",
    "def get_safety_inv(M: DistLockModel, S: DistLockState, model=None, nodes=None, epochs=None):\n",
    "    e1 = Const('e1', Epoch)\n",
    "    n1, n2 = Consts('n1 n2', Node)\n",
    "\n",
    "    def body(e1, n1, n2):\n",
    "        return Implies(\n",
    "            And(\n",
    "                S.locked(e1, n1),\n",
    "                S.locked(e1, n2)\n",
    "            ),\n",
    "            n1 == n2\n",
    "        )\n",
    "\n",
    "    if model is not None:\n",
    "        return ([model.eval(body(e1, n1, n2)) for e1, n1, n2 in itertools.product(epochs, nodes, nodes)])\n",
    "\n",
    "    Inv = ForAll([e1, n1, n2], body(e1, n1, n2))\n",
    "\n",
    "    return Inv\n",
    "\n",
    "M = DistLockModel()\n",
    "S = M.get_state('pre')\n",
    "get_safety_inv(M, S) # only for testing"
   ]
  },
  {
   "cell_type": "markdown",
   "metadata": {},
   "source": [
    "### Actions"
   ]
  },
  {
   "cell_type": "code",
   "execution_count": 20,
   "metadata": {},
   "outputs": [
    {
     "data": {
      "text/html": [
       "&forall;n1, n2, e :\n",
       " pre.held(n1) &and; &not;le(e, pre.ep(n1)) &rArr;\n",
       " (&forall;EE, NN :\n",
       "   post.transfer(EE, NN) =\n",
       "   If(EE = e &and; NN = n2, True, pre.transfer(EE, NN))) &and;\n",
       " (&forall;NN : post.held(NN) = If(NN = n1, False, pre.held(NN))) &and;\n",
       " (&forall;EE, NN : post.locked(EE, NN) = pre.locked(EE, NN)) &and;\n",
       " (&forall;NN : post.ep(NN) = pre.ep(NN))"
      ],
      "text/plain": [
       "ForAll([n1, n2, e],\n",
       "       Implies(And(pre.held(n1), Not(le(e, pre.ep(n1)))),\n",
       "               And(ForAll([EE, NN],\n",
       "                          post.transfer(EE, NN) ==\n",
       "                          If(And(EE == e, NN == n2),\n",
       "                             True,\n",
       "                             pre.transfer(EE, NN))),\n",
       "                   ForAll(NN,\n",
       "                          post.held(NN) ==\n",
       "                          If(NN == n1, False, pre.held(NN))),\n",
       "                   ForAll([EE, NN],\n",
       "                          post.locked(EE, NN) ==\n",
       "                          pre.locked(EE, NN)),\n",
       "                   ForAll(NN, post.ep(NN) == pre.ep(NN)))))"
      ]
     },
     "execution_count": 20,
     "metadata": {},
     "output_type": "execute_result"
    }
   ],
   "source": [
    "# Grant action\n",
    "\n",
    "def get_grant_action(M: DistLockModel, S1: DistLockState, S2: DistLockState, onlyPreq=False):\n",
    "    \"\"\"\n",
    "    action grant(n1:node, n2:node, e:epoch) = {\n",
    "        # release the lock and send a transfer message\n",
    "        require held(n1);\n",
    "        require ~le(e, ep(n1));   # jump to some strictly higher epoch\n",
    "        transfer(e, n2) := true;\n",
    "        held(n1) := false;\n",
    "    }\n",
    "    \"\"\"\n",
    "    e, EE = Consts('e EE', Epoch)\n",
    "    n1, n2, NN = Consts('n1 n2 NN', Node)\n",
    "\n",
    "    prec = Exists([n1, n2, e],\n",
    "        And(\n",
    "            S1.held(n1),\n",
    "            Not(M.le(e, S1.ep(n1)))\n",
    "        )\n",
    "    )\n",
    "    if onlyPreq:\n",
    "        return prec\n",
    "\n",
    "    AcceptAction = ForAll([n1, n2, e],\n",
    "        Implies(\n",
    "            # precondition\n",
    "            And(\n",
    "                S1.held(n1),\n",
    "                Not(M.le(e, S1.ep(n1)))\n",
    "            ),\n",
    "            # postcondition\n",
    "            And(\n",
    "                # for everything, use S1's values unless there's a change.\n",
    "                ForAll([EE, NN],\n",
    "                    S2.transfer(EE, NN) == If(And(EE == e, NN == n2), True, S1.transfer(EE, NN))),\n",
    "                ForAll([NN],\n",
    "                    S2.held(NN) == If(NN == n1, False, S1.held(NN))),\n",
    "                ForAll([EE, NN],\n",
    "                    S2.locked(EE, NN) == S1.locked(EE, NN)),\n",
    "                ForAll([NN],\n",
    "                    S2.ep(NN) == S1.ep(NN))\n",
    "            )\n",
    "        )\n",
    "    )\n",
    "\n",
    "    return AcceptAction\n",
    "\n",
    "M = DistLockModel()\n",
    "S1 = M.get_state('pre')\n",
    "S2 = M.get_state('post')\n",
    "get_grant_action(M, S1, S2) # only for testing"
   ]
  },
  {
   "cell_type": "code",
   "execution_count": 21,
   "metadata": {},
   "outputs": [
    {
     "data": {
      "text/html": [
       "&forall;n, e :\n",
       " pre.transfer(e, n) &and; &not;le(e, pre.ep(n)) &rArr;\n",
       " (&forall;NN : post.held(NN) = If(n = NN, True, pre.held(NN))) &and;\n",
       " (&forall;NN : post.ep(NN) = If(n = NN, e, pre.ep(NN))) &and;\n",
       " (&forall;EE, NN :\n",
       "   post.locked(EE, NN) =\n",
       "   If(EE = e &and; NN = n, True, pre.locked(EE, NN))) &and;\n",
       " (&forall;EE, NN : post.transfer(EE, NN) = pre.transfer(EE, NN))"
      ],
      "text/plain": [
       "ForAll([n, e],\n",
       "       Implies(And(pre.transfer(e, n),\n",
       "                   Not(le(e, pre.ep(n)))),\n",
       "               And(ForAll(NN,\n",
       "                          post.held(NN) ==\n",
       "                          If(n == NN, True, pre.held(NN))),\n",
       "                   ForAll(NN,\n",
       "                          post.ep(NN) ==\n",
       "                          If(n == NN, e, pre.ep(NN))),\n",
       "                   ForAll([EE, NN],\n",
       "                          post.locked(EE, NN) ==\n",
       "                          If(And(EE == e, NN == n),\n",
       "                             True,\n",
       "                             pre.locked(EE, NN))),\n",
       "                   ForAll([EE, NN],\n",
       "                          post.transfer(EE, NN) ==\n",
       "                          pre.transfer(EE, NN)))))"
      ]
     },
     "execution_count": 21,
     "metadata": {},
     "output_type": "execute_result"
    }
   ],
   "source": [
    "# Accept action\n",
    "\n",
    "def get_accept_action(M: DistLockModel, S1: DistLockState, S2: DistLockState, onlyPreq=False):\n",
    "    \"\"\"\n",
    "    action accept(n:node, e:epoch) = {\n",
    "        # receive a transfer message and take the lock, sending a locked message\n",
    "        require transfer(e,n);\n",
    "        if ~le(e, ep(n)) {\n",
    "            held(n) := true;\n",
    "            ep(n) := e;\n",
    "            locked(e, n) := true;\n",
    "        };\n",
    "    }\n",
    "    \"\"\"\n",
    "    e, EE = Consts('e EE', Epoch)\n",
    "    n, NN = Consts('n NN', Node)\n",
    "\n",
    "    prec = Exists([n, e],\n",
    "        And(\n",
    "            S1.transfer(e, n),\n",
    "            Not(M.le(e, S1.ep(n)))\n",
    "        )\n",
    "    )\n",
    "    if onlyPreq:\n",
    "        return prec\n",
    "\n",
    "    AcceptAction = ForAll([n, e],\n",
    "        Implies(\n",
    "            And(\n",
    "                S1.transfer(e, n),\n",
    "                Not(M.le(e, S1.ep(n)))\n",
    "            ),\n",
    "            And(\n",
    "                ## Precise formulation\n",
    "                ForAll([NN],\n",
    "                    S2.held(NN) == If(n == NN, True, S1.held(NN))),\n",
    "                ForAll([NN],\n",
    "                    S2.ep(NN) == If(n == NN, e, S1.ep(NN))),\n",
    "                ForAll([EE, NN],\n",
    "                    S2.locked(EE, NN) == If(And(EE == e, NN == n), True, S1.locked(EE, NN))),\n",
    "                ForAll([EE, NN],\n",
    "                    S2.transfer(EE, NN) == S1.transfer(EE, NN)),\n",
    "            )\n",
    "        )\n",
    "    )\n",
    "\n",
    "    return AcceptAction\n",
    "\n",
    "M = DistLockModel()\n",
    "S1 = M.get_state('pre')\n",
    "S2 = M.get_state('post')\n",
    "get_accept_action(M, S1, S2) # only for testing"
   ]
  },
  {
   "cell_type": "markdown",
   "metadata": {},
   "source": [
    "## Verification"
   ]
  },
  {
   "cell_type": "markdown",
   "metadata": {},
   "source": [
    "### Invariants(Init) -- Initial condition"
   ]
  },
  {
   "cell_type": "code",
   "execution_count": 22,
   "metadata": {},
   "outputs": [],
   "source": [
    "M = DistLockModel()\n",
    "S1 = M.get_state('pre')\n",
    "S2 = M.get_state('post')\n",
    "\n",
    "inv = lambda M, S: And(*[inv(M, S) for inv in all_invars[:]])\n",
    "\n",
    "solver = Solver()\n",
    "solver.assert_and_track(M.get_init_state_cond(), \"1\")\n",
    "solver.assert_and_track(M.get_axioms(), \"2\")\n",
    "solver.assert_and_track(Not(inv(M, M.get_state('init'))), \"3\")\n",
    "\n",
    "assert solver.check() == unsat"
   ]
  },
  {
   "cell_type": "markdown",
   "metadata": {},
   "source": [
    "^ unsat means that the initial state satisfies all invariants"
   ]
  },
  {
   "cell_type": "markdown",
   "metadata": {},
   "source": [
    "### Invariants(Step) -- Inductiveness"
   ]
  },
  {
   "cell_type": "code",
   "execution_count": 23,
   "metadata": {},
   "outputs": [
    {
     "name": "stderr",
     "output_type": "stream",
     "text": [
      "4it [00:00, 24.82it/s]"
     ]
    },
    {
     "name": "stdout",
     "output_type": "stream",
     "text": [
      "Model is inductive.\n"
     ]
    },
    {
     "name": "stderr",
     "output_type": "stream",
     "text": [
      "\n"
     ]
    }
   ],
   "source": [
    "M = DistLockModel()\n",
    "S1 = M.get_state('pre')\n",
    "S2 = M.get_state('post')\n",
    "\n",
    "inv = lambda M, S: And(*[inv(M, S) for inv in all_invars[:]])\n",
    "\n",
    "solver = Solver()\n",
    "solver.assert_and_track(M.get_init_state_cond(), \"1\")\n",
    "solver.assert_and_track(M.get_axioms(), \"2\")\n",
    "solver.assert_and_track(inv(M, S1), \"3\")\n",
    "solver.assert_and_track(get_grant_action(M, S1, S2), \"4\")\n",
    "solver.assert_and_track(get_accept_action(M, S1, S2), \"5\")\n",
    "\n",
    "# important. This asserts that at least one of the actions is taken.\n",
    "# More specifically, it asserts that pre-condition for at least one of the actions is true.\n",
    "# Without this, z3 is free to come up with a non sensical Pre state. The reason is,\n",
    "# our transition relation is defined as prec -> post, and z3 is free to set prec == False.\n",
    "solver.assert_and_track(Or(get_grant_action(M, S1, S2, True), get_accept_action(M, S1, S2, True)), \"6\")\n",
    "\n",
    "# However, ideally, the above thing shouldn't be required and should be captured by the invariant.\n",
    "\n",
    "## Asking z3 to solve it this way can cause it to hang.\n",
    "# solver.assert_and_track(Not(inv(M, S2)), \"7\")\n",
    "\n",
    "## So we manually \"unroll\" as below.\n",
    "## It is equivalent because AND(P, Not(q1, q2)) == Or(And(P, Not(q1)), And(P, Not(q2)))\n",
    "results = {}\n",
    "for i, inv_i in tqdm(enumerate(all_invars[:])):\n",
    "    solver.push()\n",
    "    solver.assert_and_track(Not(inv_i(M, S2)), \"7\")\n",
    "    results[i] = str(solver.check())\n",
    "    solver.pop()\n",
    "results\n",
    "\n",
    "if any([r == 'sat' for r in results.values()]):\n",
    "    print(\"Model is not inductive.\")\n",
    "    assert False\n",
    "else:\n",
    "    print(\"Model is inductive.\")"
   ]
  },
  {
   "cell_type": "markdown",
   "metadata": {},
   "source": [
    "### Invariants => Safety"
   ]
  },
  {
   "cell_type": "markdown",
   "metadata": {},
   "source": [
    "The stuff below gives unsat (as expected) for DistAI invariants, but not for Swiss invariants. Not sure why. But essentially, invariants allow a state like this one:\n",
    "\n",
    "```\n",
    "(define-fun pre.locked ((x!0 Epoch) (x!1 Node)) Bool\n",
    "  (or (and (not (= x!0 Epoch!val!3))\n",
    "           (not (= x!0 Epoch!val!1))\n",
    "           (not (= x!0 Epoch!val!4))\n",
    "           (not (= x!0 Epoch!val!2))\n",
    "           (= x!1 Node!val!1))\n",
    "      (and (not (= x!0 Epoch!val!3))\n",
    "           (not (= x!0 Epoch!val!1))\n",
    "           (not (= x!0 Epoch!val!4))\n",
    "           (not (= x!0 Epoch!val!2))\n",
    "           (not (= x!1 Node!val!1)))))\n",
    "```\n",
    "\n",
    "Which is essentially `True` if `(x!0 == Epoch!val!0)` regardless of the node's value. This shouldn't be allowed!"
   ]
  },
  {
   "cell_type": "code",
   "execution_count": 32,
   "metadata": {},
   "outputs": [
    {
     "ename": "AssertionError",
     "evalue": "",
     "output_type": "error",
     "traceback": [
      "\u001b[0;31m---------------------------------------------------------------------------\u001b[0m",
      "\u001b[0;31mAssertionError\u001b[0m                            Traceback (most recent call last)",
      "\u001b[0;32m/tmp/ipykernel_2145/2774490024.py\u001b[0m in \u001b[0;36m<module>\u001b[0;34m\u001b[0m\n\u001b[1;32m     12\u001b[0m \u001b[0msolver\u001b[0m\u001b[0;34m.\u001b[0m\u001b[0massert_and_track\u001b[0m\u001b[0;34m(\u001b[0m\u001b[0mNot\u001b[0m\u001b[0;34m(\u001b[0m\u001b[0mget_safety_inv\u001b[0m\u001b[0;34m(\u001b[0m\u001b[0mM\u001b[0m\u001b[0;34m,\u001b[0m \u001b[0mS\u001b[0m\u001b[0;34m)\u001b[0m\u001b[0;34m)\u001b[0m\u001b[0;34m,\u001b[0m \u001b[0;34m\"8\"\u001b[0m\u001b[0;34m)\u001b[0m\u001b[0;34m\u001b[0m\u001b[0;34m\u001b[0m\u001b[0m\n\u001b[1;32m     13\u001b[0m \u001b[0;34m\u001b[0m\u001b[0m\n\u001b[0;32m---> 14\u001b[0;31m \u001b[0;32massert\u001b[0m \u001b[0msolver\u001b[0m\u001b[0;34m.\u001b[0m\u001b[0mcheck\u001b[0m\u001b[0;34m(\u001b[0m\u001b[0;34m)\u001b[0m \u001b[0;34m==\u001b[0m \u001b[0munsat\u001b[0m\u001b[0;34m\u001b[0m\u001b[0;34m\u001b[0m\u001b[0m\n\u001b[0m",
      "\u001b[0;31mAssertionError\u001b[0m: "
     ]
    }
   ],
   "source": [
    "M = DistLockModel()\n",
    "S = M.get_state('pre')\n",
    "\n",
    "inv = lambda M, S: And(*[inv(M, S) for inv in all_invars[:]])\n",
    "\n",
    "solver = Solver()\n",
    "solver.assert_and_track(M.get_init_state_cond(), \"1\")\n",
    "solver.assert_and_track(M.get_axioms(), \"2\")\n",
    "solver.assert_and_track(inv(M, S), \"3\")\n",
    "\n",
    "## Safety VC:\n",
    "solver.assert_and_track(Not(get_safety_inv(M, S)), \"8\")\n",
    "\n",
    "assert solver.check() == unsat"
   ]
  },
  {
   "cell_type": "code",
   "execution_count": 33,
   "metadata": {},
   "outputs": [
    {
     "data": {
      "text/plain": [
       "{'zero': Epoch!val!2,\n",
       " 'one': Epoch!val!1,\n",
       " 'first': Node!val!2,\n",
       " '2': True,\n",
       " '3': True,\n",
       " '1': True,\n",
       " '8': True,\n",
       " 'pre.ep': [Node!val!0 -> Epoch!val!3, else -> Epoch!val!4],\n",
       " 'init.locked': [else -> False],\n",
       " 'pre.locked': [else ->\n",
       "  Or(And(Not(Var(0) == Epoch!val!4),\n",
       "         Not(Var(0) == Epoch!val!1),\n",
       "         Not(Var(0) == Epoch!val!2),\n",
       "         Not(Var(0) == Epoch!val!3),\n",
       "         Not(Var(1) == Node!val!0)),\n",
       "     And(Not(Var(0) == Epoch!val!4),\n",
       "         Not(Var(0) == Epoch!val!1),\n",
       "         Not(Var(0) == Epoch!val!2),\n",
       "         Not(Var(0) == Epoch!val!3),\n",
       "         Var(1) == Node!val!0))],\n",
       " 'init.held': [else ->\n",
       "  And(Var(0) == Node!val!2, Not(Var(0) == Node!val!0))],\n",
       " 'init.transfer': [else -> False],\n",
       " 'pre.transfer': [else ->\n",
       "  Or(And(Not(Var(0) == Epoch!val!4),\n",
       "         Not(Var(0) == Epoch!val!1),\n",
       "         Not(Var(0) == Epoch!val!2),\n",
       "         Not(Var(0) == Epoch!val!3),\n",
       "         Not(Var(1) == Node!val!0)),\n",
       "     And(Not(Var(0) == Epoch!val!4),\n",
       "         Not(Var(0) == Epoch!val!1),\n",
       "         Not(Var(0) == Epoch!val!2),\n",
       "         Not(Var(0) == Epoch!val!3),\n",
       "         Var(1) == Node!val!0))],\n",
       " 'pre.held': [else -> False],\n",
       " 'le': [else ->\n",
       "  Or(And(Var(0) == Epoch!val!2,\n",
       "         Not(Var(0) == Epoch!val!3),\n",
       "         Var(1) == Epoch!val!4,\n",
       "         Not(Var(1) == Epoch!val!1),\n",
       "         Not(Var(1) == Epoch!val!2),\n",
       "         Not(Var(1) == Epoch!val!3)),\n",
       "     And(Not(Var(0) == Epoch!val!4),\n",
       "         Not(Var(0) == Epoch!val!1),\n",
       "         Not(Var(0) == Epoch!val!2),\n",
       "         Not(Var(0) == Epoch!val!3),\n",
       "         Var(1) == Epoch!val!4,\n",
       "         Not(Var(1) == Epoch!val!1),\n",
       "         Not(Var(1) == Epoch!val!2),\n",
       "         Not(Var(1) == Epoch!val!3)),\n",
       "     And(Var(0) == Epoch!val!1,\n",
       "         Not(Var(0) == Epoch!val!2),\n",
       "         Not(Var(0) == Epoch!val!3),\n",
       "         Var(1) == Epoch!val!3),\n",
       "     And(Var(0) == Epoch!val!2,\n",
       "         Not(Var(0) == Epoch!val!3),\n",
       "         Not(Var(1) == Epoch!val!4),\n",
       "         Not(Var(1) == Epoch!val!1),\n",
       "         Not(Var(1) == Epoch!val!2),\n",
       "         Not(Var(1) == Epoch!val!3)),\n",
       "     And(Var(0) == Epoch!val!2,\n",
       "         Not(Var(0) == Epoch!val!3),\n",
       "         Var(1) == Epoch!val!1,\n",
       "         Not(Var(1) == Epoch!val!2),\n",
       "         Not(Var(1) == Epoch!val!3)),\n",
       "     And(Var(0) == Epoch!val!2,\n",
       "         Not(Var(0) == Epoch!val!3),\n",
       "         Var(1) == Epoch!val!3),\n",
       "     And(Var(0) == Epoch!val!2,\n",
       "         Not(Var(0) == Epoch!val!3),\n",
       "         Var(1) == Epoch!val!2,\n",
       "         Not(Var(1) == Epoch!val!3)),\n",
       "     And(Var(0) == Epoch!val!1,\n",
       "         Not(Var(0) == Epoch!val!2),\n",
       "         Not(Var(0) == Epoch!val!3),\n",
       "         Var(1) == Epoch!val!1,\n",
       "         Not(Var(1) == Epoch!val!2),\n",
       "         Not(Var(1) == Epoch!val!3)),\n",
       "     And(Not(Var(0) == Epoch!val!4),\n",
       "         Not(Var(0) == Epoch!val!1),\n",
       "         Not(Var(0) == Epoch!val!2),\n",
       "         Not(Var(0) == Epoch!val!3),\n",
       "         Not(Var(1) == Epoch!val!4),\n",
       "         Not(Var(1) == Epoch!val!1),\n",
       "         Not(Var(1) == Epoch!val!2),\n",
       "         Not(Var(1) == Epoch!val!3)),\n",
       "     And(Var(0) == Epoch!val!1,\n",
       "         Not(Var(0) == Epoch!val!2),\n",
       "         Not(Var(0) == Epoch!val!3),\n",
       "         Var(1) == Epoch!val!4,\n",
       "         Not(Var(1) == Epoch!val!1),\n",
       "         Not(Var(1) == Epoch!val!2),\n",
       "         Not(Var(1) == Epoch!val!3)),\n",
       "     And(Not(Var(0) == Epoch!val!4),\n",
       "         Not(Var(0) == Epoch!val!1),\n",
       "         Not(Var(0) == Epoch!val!2),\n",
       "         Not(Var(0) == Epoch!val!3),\n",
       "         Var(1) == Epoch!val!3),\n",
       "     And(Var(0) == Epoch!val!4,\n",
       "         Not(Var(0) == Epoch!val!1),\n",
       "         Not(Var(0) == Epoch!val!2),\n",
       "         Not(Var(0) == Epoch!val!3),\n",
       "         Var(1) == Epoch!val!4,\n",
       "         Not(Var(1) == Epoch!val!1),\n",
       "         Not(Var(1) == Epoch!val!2),\n",
       "         Not(Var(1) == Epoch!val!3)),\n",
       "     And(Var(0) == Epoch!val!3, Var(1) == Epoch!val!3),\n",
       "     And(Var(0) == Epoch!val!1,\n",
       "         Not(Var(0) == Epoch!val!2),\n",
       "         Not(Var(0) == Epoch!val!3),\n",
       "         Not(Var(1) == Epoch!val!4),\n",
       "         Not(Var(1) == Epoch!val!1),\n",
       "         Not(Var(1) == Epoch!val!2),\n",
       "         Not(Var(1) == Epoch!val!3)),\n",
       "     And(Var(0) == Epoch!val!3,\n",
       "         Var(1) == Epoch!val!4,\n",
       "         Not(Var(1) == Epoch!val!1),\n",
       "         Not(Var(1) == Epoch!val!2),\n",
       "         Not(Var(1) == Epoch!val!3)))],\n",
       " 'init.ep': [else ->\n",
       "  If(And(Var(0) == Node!val!2, Not(Var(0) == Node!val!0)),\n",
       "     Epoch!val!1,\n",
       "     Epoch!val!2)]}"
      ]
     },
     "execution_count": 33,
     "metadata": {},
     "output_type": "execute_result"
    }
   ],
   "source": [
    "model = solver.model()\n",
    "d_model = M.get_interp(model)\n",
    "d_model"
   ]
  },
  {
   "cell_type": "code",
   "execution_count": 34,
   "metadata": {},
   "outputs": [],
   "source": [
    "all_nodes, all_epochs = model.get_universe(Node), model.get_universe(Epoch)"
   ]
  },
  {
   "cell_type": "code",
   "execution_count": 35,
   "metadata": {},
   "outputs": [
    {
     "data": {
      "text/plain": [
       "True"
      ]
     },
     "execution_count": 35,
     "metadata": {},
     "output_type": "execute_result"
    }
   ],
   "source": [
    "all([all_invars[i](M, S, model, all_nodes, all_epochs) for i in range(len(all_invars))])"
   ]
  },
  {
   "cell_type": "code",
   "execution_count": 36,
   "metadata": {},
   "outputs": [
    {
     "data": {
      "text/plain": [
       "([Node!val!0, Node!val!1, Node!val!2],\n",
       " [Epoch!val!3,\n",
       "  Epoch!val!4,\n",
       "  Epoch!val!2,\n",
       "  Epoch!val!1,\n",
       "  Epoch!val!0])"
      ]
     },
     "execution_count": 36,
     "metadata": {},
     "output_type": "execute_result"
    }
   ],
   "source": [
    "all_nodes, all_epochs"
   ]
  },
  {
   "cell_type": "code",
   "execution_count": 37,
   "metadata": {},
   "outputs": [
    {
     "data": {
      "text/html": [
       "&forall;e1, n1, n2 :\n",
       " pre.locked(e1, n1) &and; pre.locked(e1, n2) &rArr; n1 = n2"
      ],
      "text/plain": [
       "ForAll([e1, n1, n2],\n",
       "       Implies(And(pre.locked(e1, n1), pre.locked(e1, n2)),\n",
       "               n1 == n2))"
      ]
     },
     "execution_count": 37,
     "metadata": {},
     "output_type": "execute_result"
    }
   ],
   "source": [
    "get_safety_inv(M, S)"
   ]
  },
  {
   "cell_type": "code",
   "execution_count": 38,
   "metadata": {},
   "outputs": [
    {
     "data": {
      "text/plain": [
       "[(Epoch!val!3, Node!val!0, Node!val!0),\n",
       " (Epoch!val!3, Node!val!0, Node!val!1),\n",
       " (Epoch!val!3, Node!val!0, Node!val!2),\n",
       " (Epoch!val!3, Node!val!1, Node!val!0),\n",
       " (Epoch!val!3, Node!val!1, Node!val!1),\n",
       " (Epoch!val!3, Node!val!1, Node!val!2),\n",
       " (Epoch!val!3, Node!val!2, Node!val!0),\n",
       " (Epoch!val!3, Node!val!2, Node!val!1),\n",
       " (Epoch!val!3, Node!val!2, Node!val!2),\n",
       " (Epoch!val!4, Node!val!0, Node!val!0),\n",
       " (Epoch!val!4, Node!val!0, Node!val!1),\n",
       " (Epoch!val!4, Node!val!0, Node!val!2),\n",
       " (Epoch!val!4, Node!val!1, Node!val!0),\n",
       " (Epoch!val!4, Node!val!1, Node!val!1),\n",
       " (Epoch!val!4, Node!val!1, Node!val!2),\n",
       " (Epoch!val!4, Node!val!2, Node!val!0),\n",
       " (Epoch!val!4, Node!val!2, Node!val!1),\n",
       " (Epoch!val!4, Node!val!2, Node!val!2),\n",
       " (Epoch!val!2, Node!val!0, Node!val!0),\n",
       " (Epoch!val!2, Node!val!0, Node!val!1),\n",
       " (Epoch!val!2, Node!val!0, Node!val!2),\n",
       " (Epoch!val!2, Node!val!1, Node!val!0),\n",
       " (Epoch!val!2, Node!val!1, Node!val!1),\n",
       " (Epoch!val!2, Node!val!1, Node!val!2),\n",
       " (Epoch!val!2, Node!val!2, Node!val!0),\n",
       " (Epoch!val!2, Node!val!2, Node!val!1),\n",
       " (Epoch!val!2, Node!val!2, Node!val!2),\n",
       " (Epoch!val!1, Node!val!0, Node!val!0),\n",
       " (Epoch!val!1, Node!val!0, Node!val!1),\n",
       " (Epoch!val!1, Node!val!0, Node!val!2),\n",
       " (Epoch!val!1, Node!val!1, Node!val!0),\n",
       " (Epoch!val!1, Node!val!1, Node!val!1),\n",
       " (Epoch!val!1, Node!val!1, Node!val!2),\n",
       " (Epoch!val!1, Node!val!2, Node!val!0),\n",
       " (Epoch!val!1, Node!val!2, Node!val!1),\n",
       " (Epoch!val!1, Node!val!2, Node!val!2),\n",
       " (Epoch!val!0, Node!val!0, Node!val!0),\n",
       " (Epoch!val!0, Node!val!0, Node!val!1),\n",
       " (Epoch!val!0, Node!val!0, Node!val!2),\n",
       " (Epoch!val!0, Node!val!1, Node!val!0),\n",
       " (Epoch!val!0, Node!val!1, Node!val!1),\n",
       " (Epoch!val!0, Node!val!1, Node!val!2),\n",
       " (Epoch!val!0, Node!val!2, Node!val!0),\n",
       " (Epoch!val!0, Node!val!2, Node!val!1),\n",
       " (Epoch!val!0, Node!val!2, Node!val!2)]"
      ]
     },
     "execution_count": 38,
     "metadata": {},
     "output_type": "execute_result"
    }
   ],
   "source": [
    "list(itertools.product(all_epochs, all_nodes, all_nodes))"
   ]
  },
  {
   "cell_type": "code",
   "execution_count": 39,
   "metadata": {},
   "outputs": [
    {
     "data": {
      "text/plain": [
       "[True,\n",
       " True,\n",
       " True,\n",
       " True,\n",
       " True,\n",
       " True,\n",
       " True,\n",
       " True,\n",
       " True,\n",
       " True,\n",
       " True,\n",
       " True,\n",
       " True,\n",
       " True,\n",
       " True,\n",
       " True,\n",
       " True,\n",
       " True,\n",
       " True,\n",
       " True,\n",
       " True,\n",
       " True,\n",
       " True,\n",
       " True,\n",
       " True,\n",
       " True,\n",
       " True,\n",
       " True,\n",
       " True,\n",
       " True,\n",
       " True,\n",
       " True,\n",
       " True,\n",
       " True,\n",
       " True,\n",
       " True,\n",
       " True,\n",
       " False,\n",
       " False,\n",
       " False,\n",
       " True,\n",
       " False,\n",
       " False,\n",
       " False,\n",
       " True]"
      ]
     },
     "execution_count": 39,
     "metadata": {},
     "output_type": "execute_result"
    }
   ],
   "source": [
    "get_safety_inv(M, S, model, all_nodes, all_epochs)"
   ]
  },
  {
   "cell_type": "code",
   "execution_count": 40,
   "metadata": {},
   "outputs": [
    {
     "data": {
      "text/html": [
       "[Epoch!val!2,\n",
       " Epoch!val!1,\n",
       " Epoch!val!0,\n",
       " Epoch!val!3,\n",
       " Epoch!val!4]"
      ],
      "text/plain": [
       "[Epoch!val!2,\n",
       " Epoch!val!1,\n",
       " Epoch!val!0,\n",
       " Epoch!val!3,\n",
       " Epoch!val!4]"
      ]
     },
     "execution_count": 40,
     "metadata": {},
     "output_type": "execute_result"
    }
   ],
   "source": [
    "def cmp(e1, e2):\n",
    "    return model.eval(M.le(e1, e2))\n",
    "\n",
    "# bubble sort\n",
    "def bubble_sort(l):\n",
    "    for i in range(len(l)):\n",
    "        for j in range(len(l)-1):\n",
    "            if cmp(l[j], l[j+1]) == False:\n",
    "                l[j], l[j+1] = l[j+1], l[j]\n",
    "    return l\n",
    "\n",
    "sorted_epochs = bubble_sort(all_epochs)\n",
    "sorted_epochs"
   ]
  },
  {
   "cell_type": "code",
   "execution_count": 41,
   "metadata": {},
   "outputs": [
    {
     "name": "stdout",
     "output_type": "stream",
     "text": [
      ";; universe for Node:\n",
      ";;   Node!val!0 Node!val!1 Node!val!2 \n",
      ";; -----------\n",
      ";; definitions for universe elements:\n",
      "(declare-fun Node!val!0 () Node)\n",
      "(declare-fun Node!val!1 () Node)\n",
      "(declare-fun Node!val!2 () Node)\n",
      ";; cardinality constraint:\n",
      "(forall ((x Node)) (or (= x Node!val!0) (= x Node!val!1) (= x Node!val!2)))\n",
      ";; -----------\n",
      ";; universe for Epoch:\n",
      ";;   Epoch!val!3 Epoch!val!4 Epoch!val!2 Epoch!val!1 Epoch!val!0 \n",
      ";; -----------\n",
      ";; definitions for universe elements:\n",
      "(declare-fun Epoch!val!3 () Epoch)\n",
      "(declare-fun Epoch!val!4 () Epoch)\n",
      "(declare-fun Epoch!val!2 () Epoch)\n",
      "(declare-fun Epoch!val!1 () Epoch)\n",
      "(declare-fun Epoch!val!0 () Epoch)\n",
      ";; cardinality constraint:\n",
      "(forall ((x Epoch))\n",
      "        (or (= x Epoch!val!3)\n",
      "            (= x Epoch!val!4)\n",
      "            (= x Epoch!val!2)\n",
      "            (= x Epoch!val!1)\n",
      "            (= x Epoch!val!0)))\n",
      ";; -----------\n",
      "(define-fun zero () Epoch\n",
      "  Epoch!val!2)\n",
      "(define-fun one () Epoch\n",
      "  Epoch!val!1)\n",
      "(define-fun first () Node\n",
      "  Node!val!2)\n",
      "(define-fun |2| () Bool\n",
      "  true)\n",
      "(define-fun |3| () Bool\n",
      "  true)\n",
      "(define-fun |1| () Bool\n",
      "  true)\n",
      "(define-fun |8| () Bool\n",
      "  true)\n",
      "(define-fun pre.ep ((x!0 Node)) Epoch\n",
      "  (ite (= x!0 Node!val!0) Epoch!val!3\n",
      "    Epoch!val!4))\n",
      "(define-fun init.locked ((x!0 Epoch) (x!1 Node)) Bool\n",
      "  false)\n",
      "(define-fun pre.locked ((x!0 Epoch) (x!1 Node)) Bool\n",
      "  (or (and (not (= x!0 Epoch!val!4))\n",
      "           (not (= x!0 Epoch!val!1))\n",
      "           (not (= x!0 Epoch!val!2))\n",
      "           (not (= x!0 Epoch!val!3))\n",
      "           (not (= x!1 Node!val!0)))\n",
      "      (and (not (= x!0 Epoch!val!4))\n",
      "           (not (= x!0 Epoch!val!1))\n",
      "           (not (= x!0 Epoch!val!2))\n",
      "           (not (= x!0 Epoch!val!3))\n",
      "           (= x!1 Node!val!0))))\n",
      "(define-fun init.held ((x!0 Node)) Bool\n",
      "  (and (= x!0 Node!val!2) (not (= x!0 Node!val!0))))\n",
      "(define-fun init.transfer ((x!0 Epoch) (x!1 Node)) Bool\n",
      "  false)\n",
      "(define-fun pre.transfer ((x!0 Epoch) (x!1 Node)) Bool\n",
      "  (or (and (not (= x!0 Epoch!val!4))\n",
      "           (not (= x!0 Epoch!val!1))\n",
      "           (not (= x!0 Epoch!val!2))\n",
      "           (not (= x!0 Epoch!val!3))\n",
      "           (not (= x!1 Node!val!0)))\n",
      "      (and (not (= x!0 Epoch!val!4))\n",
      "           (not (= x!0 Epoch!val!1))\n",
      "           (not (= x!0 Epoch!val!2))\n",
      "           (not (= x!0 Epoch!val!3))\n",
      "           (= x!1 Node!val!0))))\n",
      "(define-fun pre.held ((x!0 Node)) Bool\n",
      "  false)\n",
      "(define-fun le ((x!0 Epoch) (x!1 Epoch)) Bool\n",
      "  (or (and (= x!0 Epoch!val!2)\n",
      "           (not (= x!0 Epoch!val!3))\n",
      "           (= x!1 Epoch!val!4)\n",
      "           (not (= x!1 Epoch!val!1))\n",
      "           (not (= x!1 Epoch!val!2))\n",
      "           (not (= x!1 Epoch!val!3)))\n",
      "      (and (not (= x!0 Epoch!val!4))\n",
      "           (not (= x!0 Epoch!val!1))\n",
      "           (not (= x!0 Epoch!val!2))\n",
      "           (not (= x!0 Epoch!val!3))\n",
      "           (= x!1 Epoch!val!4)\n",
      "           (not (= x!1 Epoch!val!1))\n",
      "           (not (= x!1 Epoch!val!2))\n",
      "           (not (= x!1 Epoch!val!3)))\n",
      "      (and (= x!0 Epoch!val!1)\n",
      "           (not (= x!0 Epoch!val!2))\n",
      "           (not (= x!0 Epoch!val!3))\n",
      "           (= x!1 Epoch!val!3))\n",
      "      (and (= x!0 Epoch!val!2)\n",
      "           (not (= x!0 Epoch!val!3))\n",
      "           (not (= x!1 Epoch!val!4))\n",
      "           (not (= x!1 Epoch!val!1))\n",
      "           (not (= x!1 Epoch!val!2))\n",
      "           (not (= x!1 Epoch!val!3)))\n",
      "      (and (= x!0 Epoch!val!2)\n",
      "           (not (= x!0 Epoch!val!3))\n",
      "           (= x!1 Epoch!val!1)\n",
      "           (not (= x!1 Epoch!val!2))\n",
      "           (not (= x!1 Epoch!val!3)))\n",
      "      (and (= x!0 Epoch!val!2) (not (= x!0 Epoch!val!3)) (= x!1 Epoch!val!3))\n",
      "      (and (= x!0 Epoch!val!2)\n",
      "           (not (= x!0 Epoch!val!3))\n",
      "           (= x!1 Epoch!val!2)\n",
      "           (not (= x!1 Epoch!val!3)))\n",
      "      (and (= x!0 Epoch!val!1)\n",
      "           (not (= x!0 Epoch!val!2))\n",
      "           (not (= x!0 Epoch!val!3))\n",
      "           (= x!1 Epoch!val!1)\n",
      "           (not (= x!1 Epoch!val!2))\n",
      "           (not (= x!1 Epoch!val!3)))\n",
      "      (and (not (= x!0 Epoch!val!4))\n",
      "           (not (= x!0 Epoch!val!1))\n",
      "           (not (= x!0 Epoch!val!2))\n",
      "           (not (= x!0 Epoch!val!3))\n",
      "           (not (= x!1 Epoch!val!4))\n",
      "           (not (= x!1 Epoch!val!1))\n",
      "           (not (= x!1 Epoch!val!2))\n",
      "           (not (= x!1 Epoch!val!3)))\n",
      "      (and (= x!0 Epoch!val!1)\n",
      "           (not (= x!0 Epoch!val!2))\n",
      "           (not (= x!0 Epoch!val!3))\n",
      "           (= x!1 Epoch!val!4)\n",
      "           (not (= x!1 Epoch!val!1))\n",
      "           (not (= x!1 Epoch!val!2))\n",
      "           (not (= x!1 Epoch!val!3)))\n",
      "      (and (not (= x!0 Epoch!val!4))\n",
      "           (not (= x!0 Epoch!val!1))\n",
      "           (not (= x!0 Epoch!val!2))\n",
      "           (not (= x!0 Epoch!val!3))\n",
      "           (= x!1 Epoch!val!3))\n",
      "      (and (= x!0 Epoch!val!4)\n",
      "           (not (= x!0 Epoch!val!1))\n",
      "           (not (= x!0 Epoch!val!2))\n",
      "           (not (= x!0 Epoch!val!3))\n",
      "           (= x!1 Epoch!val!4)\n",
      "           (not (= x!1 Epoch!val!1))\n",
      "           (not (= x!1 Epoch!val!2))\n",
      "           (not (= x!1 Epoch!val!3)))\n",
      "      (and (= x!0 Epoch!val!3) (= x!1 Epoch!val!3))\n",
      "      (and (= x!0 Epoch!val!1)\n",
      "           (not (= x!0 Epoch!val!2))\n",
      "           (not (= x!0 Epoch!val!3))\n",
      "           (not (= x!1 Epoch!val!4))\n",
      "           (not (= x!1 Epoch!val!1))\n",
      "           (not (= x!1 Epoch!val!2))\n",
      "           (not (= x!1 Epoch!val!3)))\n",
      "      (and (= x!0 Epoch!val!3)\n",
      "           (= x!1 Epoch!val!4)\n",
      "           (not (= x!1 Epoch!val!1))\n",
      "           (not (= x!1 Epoch!val!2))\n",
      "           (not (= x!1 Epoch!val!3)))))\n",
      "(define-fun init.ep ((x!0 Node)) Epoch\n",
      "  (ite (and (= x!0 Node!val!2) (not (= x!0 Node!val!0)))\n",
      "       Epoch!val!1\n",
      "       Epoch!val!2))\n"
     ]
    }
   ],
   "source": [
    "print(solver.model().sexpr())"
   ]
  },
  {
   "cell_type": "code",
   "execution_count": null,
   "metadata": {},
   "outputs": [],
   "source": []
  }
 ],
 "metadata": {
  "interpreter": {
   "hash": "7d3b008de750d86f6d8cf03c58ff2c3358cb2910fdd34da3c87349ecb5bdd54c"
  },
  "kernelspec": {
   "display_name": "Python 3.8.10 64-bit ('angr': virtualenv)",
   "language": "python",
   "name": "python3"
  },
  "language_info": {
   "codemirror_mode": {
    "name": "ipython",
    "version": 3
   },
   "file_extension": ".py",
   "mimetype": "text/x-python",
   "name": "python",
   "nbconvert_exporter": "python",
   "pygments_lexer": "ipython3",
   "version": "3.8.10"
  },
  "orig_nbformat": 4
 },
 "nbformat": 4,
 "nbformat_minor": 2
}
