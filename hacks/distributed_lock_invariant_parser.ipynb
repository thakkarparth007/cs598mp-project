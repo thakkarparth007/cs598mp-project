{
 "cells": [
  {
   "cell_type": "code",
   "execution_count": null,
   "metadata": {},
   "outputs": [],
   "source": [
    "invariants = \"\"\"\n",
    "le(E1, E2) & E1 ~= E2 -> le(E1,ep(N1)) | ~le(E2,ep(N1))\n",
    "le(E1, E2) & E1 ~= E2 -> locked(E1,N1) | ~transfer(E1,N1) | ~transfer(E2,N1)\n",
    "le(E1, E2) & E1 ~= E2 -> locked(E1,N1) | ~transfer(E1,N1) | ~le(E2,ep(N1))\n",
    "le(E1, E2) & E1 ~= E2 -> le(E1,ep(N1)) | ~locked(E2,N1)\n",
    "le(E1, E2) & E1 ~= E2 -> locked(E1,N1) | ~transfer(E1,N1) | ~locked(E2,N1)\n",
    "le(E1, E2) & E1 ~= E2 -> le(E1,ep(N1)) | ~transfer(E1,N1) | ~transfer(E2,N1)\n",
    "le(E1, E2) & E1 ~= E2 & N1 ~= N2 -> ~le(E2,ep(N1)) | ~le(ep(N1),ep(N2)) | ~le(ep(N2),ep(N1))\n",
    "le(E1, E2) & E1 ~= E2 & N1 ~= N2 -> le(E1,ep(N1)) | le(ep(N1),ep(N2)) | ~locked(E2,N2)\n",
    "le(E1, E2) & E1 ~= E2 & N1 ~= N2 -> le(E1,ep(N1)) | ~transfer(E1,N1) | ~locked(E2,N2)\n",
    "le(E1, E2) & E1 ~= E2 & N1 ~= N2 -> locked(E1,N1) | ~transfer(E1,N1) | ~le(E2,ep(N2))\n",
    "le(E1, E2) & E1 ~= E2 & N1 ~= N2 -> le(E1,ep(N1)) | ~held(N2) | ~transfer(E2,N1)\n",
    "le(E1, E2) & E1 ~= E2 & N1 ~= N2 -> le(E1,ep(N1)) | ~transfer(E1,N1) | ~le(E2,ep(N2))\n",
    "le(E1, E2) & E1 ~= E2 & N1 ~= N2 -> le(E1,ep(N1)) | ~locked(E2,N2) | ~le(ep(N2),ep(N1))\n",
    "le(E1, E2) & E1 ~= E2 & N1 ~= N2 -> locked(E1,N1) | ~transfer(E1,N1) | ~transfer(E2,N2)\n",
    "le(E1, E2) & E1 ~= E2 & N1 ~= N2 -> le(E1,ep(N1)) | le(ep(N1),ep(N2)) | ~le(E2,ep(N2))\n",
    "le(E1, E2) & E1 ~= E2 & N1 ~= N2 -> le(E1,ep(N1)) | ~transfer(E1,N1) | ~transfer(E2,N2)\n",
    "le(E1, E2) & E1 ~= E2 & N1 ~= N2 -> le(E1,ep(N1)) | ~transfer(E2,N1) | ~le(E2,ep(N2))\n",
    "le(E1, E2) & E1 ~= E2 & N1 ~= N2 -> le(E1,ep(N1)) | ~le(ep(N2),ep(N1)) | ~le(E2,ep(N2))\n",
    "le(E1, E2) & E1 ~= E2 & N1 ~= N2 -> locked(E1,N1) | ~transfer(E1,N1) | ~locked(E2,N2)\n",
    "locked(E1,N1) | ~transfer(E1,N1) | ~le(E1,ep(N1))\n",
    "locked(E1,N1) | ~held(N1) | ~transfer(E1,N1)\n",
    "le(E1,ep(N1)) | ~held(N1) | ~transfer(E1,N1)\n",
    "transfer(E1,N1) | ~locked(E1,N1)\n",
    "le(E1,ep(N1)) | ~locked(E1,N1)\n",
    "N1 ~= N2 -> ~le(ep(N1),ep(N2)) | ~le(ep(N2),ep(N1)) | ~first=N1\n",
    "N1 ~= N2 -> le(E1,ep(N1)) | le(ep(N1),ep(N2)) | ~locked(E1,N2)\n",
    "N1 ~= N2 -> le(E1,ep(N1)) | le(ep(N1),ep(N2)) | ~le(E1,ep(N2))\n",
    "N1 ~= N2 -> le(ep(N1),ep(N2)) | ~held(N2)\n",
    "N1 ~= N2 -> ~held(N1) | ~le(ep(N1),ep(N2))\n",
    "N1 ~= N2 -> locked(E1,N1) | ~held(N2) | ~transfer(E1,N1)\n",
    "N1 ~= N2 -> le(ep(N1),ep(N2)) | le(ep(N2),ep(N1))\n",
    "N1 ~= N2 -> le(E1,ep(N1)) | ~locked(E1,N2) | ~le(ep(N2),ep(N1))\n",
    "N1 ~= N2 -> ~held(N1) | ~held(N2)\n",
    "N1 ~= N2 -> locked(E1,N1) | ~transfer(E1,N1) | ~le(E1,ep(N2))\n",
    "N1 ~= N2 -> ~locked(E1,N1) | ~locked(E1,N2)\n",
    "N1 ~= N2 -> ~first=N1 | ~first=N2\n",
    "N1 ~= N2 -> ~transfer(E1,N1) | ~transfer(E1,N2)\n",
    "N1 ~= N2 -> le(E1,ep(N1)) | ~held(N1) | ~transfer(E1,N2)\n",
    "N1 ~= N2 -> ~transfer(E1,N1) | ~locked(E1,N2)\n",
    "N1 ~= N2 -> ~locked(E1,N1) | ~le(ep(N1),ep(N2)) | ~le(ep(N2),ep(N1))\n",
    "N1 ~= N2 -> le(E1,ep(N1)) | ~held(N1) | ~locked(E1,N2)\n",
    "N1 ~= N2 -> le(E1,ep(N1)) | ~le(ep(N2),ep(N1)) | ~le(E1,ep(N2))\n",
    "N1 ~= N2 -> le(E1,ep(N1)) | ~held(N1) | ~le(E1,ep(N2))\n",
    "N1 ~= N2 -> le(E1,ep(N1)) | ~held(N2) | ~transfer(E1,N1)\n",
    "N1 ~= N2 -> le(E1,ep(N1)) | ~transfer(E1,N1) | ~le(E1,ep(N2))\n",
    "\"\"\".replace(\"~=\", \"!=\").strip().split(\"\\n\")"
   ]
  },
  {
   "cell_type": "code",
   "execution_count": null,
   "metadata": {},
   "outputs": [],
   "source": [
    "def parse(inv_str, vars):\n",
    "    inv_str = inv_str.strip()\n",
    "\n",
    "    if inv_str.count(\"->\") > 1:\n",
    "        raise Exception(\"Too many ->\")\n",
    "\n",
    "    if '->' in inv_str:\n",
    "        left, right = inv_str.split('->')\n",
    "        return f\"Implies({parse(left, vars)},{parse(right, vars)})\"\n",
    "\n",
    "    if \"&\" in inv_str:\n",
    "        parts = inv_str.split(\"&\")\n",
    "        return f\"And([{','.join([parse(p, vars) for p in parts])}])\"\n",
    "\n",
    "    if \"|\" in inv_str:\n",
    "        parts = inv_str.split(\"|\")\n",
    "        return f\"Or([{','.join([parse(p, vars) for p in parts])}])\"\n",
    "\n",
    "    if \"~\" in inv_str:\n",
    "        return f\"Not({parse(inv_str[1:], vars)})\"\n",
    "\n",
    "    if \"!=\" in inv_str:\n",
    "        left, right = inv_str.split(\"!=\")\n",
    "        return f\"{parse(left, vars)} != {parse(right, vars)}\"\n",
    "    \n",
    "    if \"=\" in inv_str:\n",
    "        left, right = inv_str.split(\"=\")\n",
    "        return f\"{parse(left, vars)} == {parse(right, vars)}\"\n",
    "\n",
    "    if inv_str.endswith(\")\"):\n",
    "        first_brace_idx = inv_str.index(\"(\")\n",
    "        name = inv_str[:first_brace_idx]\n",
    "        args = inv_str[first_brace_idx+1:-1].split(\",\")\n",
    "        prefix = \"M.\" if name == 'le' else \"S.\"\n",
    "        return f\"{prefix}{name}({','.join([parse(a, vars) for a in args])})\"\n",
    "\n",
    "    if inv_str == \"first\":\n",
    "        return \"M.first\"\n",
    "\n",
    "    vars.add(inv_str)\n",
    "    return inv_str\n",
    "\n",
    "def get_inv_fn(fn_name, inv_str, only_code=False):\n",
    "    vars = set()\n",
    "    inv_fn_str = parse(inv_str, vars)\n",
    "\n",
    "    nodes = [v for v in vars if v.startswith(\"N\")]\n",
    "    epochs = [v for v in vars if v.startswith(\"E\")]\n",
    "\n",
    "    code = []\n",
    "    if len(nodes) == 1:\n",
    "        code += [nodes[0] + \" = Const('\" + nodes[0] + \"', Node)\"]\n",
    "    elif len(nodes) > 1:\n",
    "        code += [\", \".join(nodes) + \" = Consts('\" + \" \".join(nodes) + \"', Node)\"]\n",
    "    \n",
    "    if len(epochs) == 1:\n",
    "        code += [epochs[0] + \" = Const('\" + epochs[0] + \"', Epoch)\"]\n",
    "    elif len(epochs) > 1:\n",
    "        code += [\", \".join(epochs) + \" = Consts('\" + \" \".join(epochs) + \"', Epoch)\"]\n",
    "    \n",
    "    code += [\"inv = ForAll([\" + \", \".join(vars) + \"], \" + inv_fn_str + \")\"]\n",
    "    code += [\"return inv\"]\n",
    "\n",
    "    code = f\"def {fn_name}(M, S):\\n\\t\" + \"\\n\\t\".join(code)\n",
    "    if only_code:\n",
    "        return code\n",
    "\n",
    "    ldict = {}\n",
    "    exec(code)\n",
    "    exec(f\"ldict['fn'] = {fn_name}\")\n",
    "    return ldict['fn']"
   ]
  },
  {
   "cell_type": "code",
   "execution_count": null,
   "metadata": {},
   "outputs": [],
   "source": [
    "print(invariants[0])\n",
    "vars = set()\n",
    "parse(invariants[0], vars)"
   ]
  },
  {
   "cell_type": "code",
   "execution_count": null,
   "metadata": {},
   "outputs": [],
   "source": [
    "vars"
   ]
  },
  {
   "cell_type": "code",
   "execution_count": null,
   "metadata": {},
   "outputs": [],
   "source": [
    "get_inv_fn(\"inv_fn\", invariants[0])"
   ]
  },
  {
   "cell_type": "code",
   "execution_count": null,
   "metadata": {},
   "outputs": [],
   "source": [
    "print(get_inv_fn(\"inv_fn\", invariants[24], True))"
   ]
  },
  {
   "cell_type": "code",
   "execution_count": null,
   "metadata": {},
   "outputs": [],
   "source": [
    "invars = [get_inv_fn(\"inv_fn\", inv) for inv in invariants]"
   ]
  },
  {
   "cell_type": "code",
   "execution_count": null,
   "metadata": {},
   "outputs": [],
   "source": []
  }
 ],
 "metadata": {
  "interpreter": {
   "hash": "7d3b008de750d86f6d8cf03c58ff2c3358cb2910fdd34da3c87349ecb5bdd54c"
  },
  "kernelspec": {
   "display_name": "Python 3.8.10 64-bit ('angr': virtualenv)",
   "language": "python",
   "name": "python3"
  },
  "language_info": {
   "codemirror_mode": {
    "name": "ipython",
    "version": 3
   },
   "file_extension": ".py",
   "mimetype": "text/x-python",
   "name": "python",
   "nbconvert_exporter": "python",
   "pygments_lexer": "ipython3",
   "version": "3.8.10"
  },
  "orig_nbformat": 4
 },
 "nbformat": 4,
 "nbformat_minor": 2
}
