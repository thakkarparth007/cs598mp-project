{
 "cells": [
  {
   "cell_type": "code",
   "execution_count": 1,
   "metadata": {},
   "outputs": [],
   "source": [
    "from z3 import *"
   ]
  },
  {
   "cell_type": "code",
   "execution_count": 2,
   "metadata": {},
   "outputs": [],
   "source": [
    "# create uninterpreted sort Node and Epoch\n",
    "Node = DeclareSort('Node')\n",
    "Epoch = DeclareSort('Epoch')"
   ]
  },
  {
   "cell_type": "code",
   "execution_count": 3,
   "metadata": {},
   "outputs": [
    {
     "data": {
      "text/plain": [
       "<__main__.DistLockState at 0x7fa46c3b54c0>"
      ]
     },
     "execution_count": 3,
     "metadata": {},
     "output_type": "execute_result"
    }
   ],
   "source": [
    "class DistLockState():\n",
    "    def __init__(self, name):\n",
    "        self.name = name\n",
    "\n",
    "        # relations\n",
    "        self.ep = Function(f'{name}.ep', Node, Epoch)\n",
    "        self.held = Function(f'{name}.held', Node, BoolSort())\n",
    "        self.transfer = Function(f'{name}.transfer', Epoch, Node, BoolSort())\n",
    "        self.locked = Function(f'{name}.locked', Epoch, Node, BoolSort())\n",
    "\n",
    "DistLockState('test_pre') # only for testing"
   ]
  },
  {
   "cell_type": "code",
   "execution_count": 4,
   "metadata": {},
   "outputs": [
    {
     "data": {
      "text/html": [
       "&forall;e1, e2, e3 :\n",
       " le(e1, e1) &and;\n",
       " (le(e1, e2) &and; le(e2, e3) &rArr; le(e1, e3)) &and;\n",
       " (le(e1, e2) &and; le(e2, e1) &rArr; e1 = e2) &and;\n",
       " (le(e1, e2) &or; le(e2, e1)) &and;\n",
       " le(zero, e1) &and;\n",
       " one &ne; zero"
      ],
      "text/plain": [
       "ForAll([e1, e2, e3],\n",
       "       And(le(e1, e1),\n",
       "           Implies(And(le(e1, e2), le(e2, e3)), le(e1, e3)),\n",
       "           Implies(And(le(e1, e2), le(e2, e1)), e1 == e2),\n",
       "           Or(le(e1, e2), le(e2, e1)),\n",
       "           le(zero, e1),\n",
       "           one != zero))"
      ]
     },
     "execution_count": 4,
     "metadata": {},
     "output_type": "execute_result"
    }
   ],
   "source": [
    "class DistLockModel():\n",
    "    def __init__(self):\n",
    "        # constants\n",
    "        self.le = Function(f'le', Epoch, Epoch, BoolSort())\n",
    "        self.zero = Const(f'zero', Epoch)\n",
    "        self.one = Const(f'one', Epoch)\n",
    "        self.first = Const(f'first', Node)\n",
    "\n",
    "        self.states = {}\n",
    "    \n",
    "    def get_state(self, name):\n",
    "        if name not in self.states:\n",
    "            self.states[name] = DistLockState(name)\n",
    "        return self.states[name]\n",
    "    \n",
    "    def get_axioms(self):\n",
    "        e1, e2, e3 = Consts('e1 e2 e3', Epoch)\n",
    "        \n",
    "        Axioms = ForAll([e1, e2, e3],\n",
    "            And(\n",
    "                # reflexivity\n",
    "                self.le(e1, e1),\n",
    "                # transitivity\n",
    "                Implies(And(self.le(e1, e2), self.le(e2, e3)), self.le(e1, e3)),\n",
    "                # antisymmetry\n",
    "                Implies(And(self.le(e1, e2), self.le(e2, e1)), e1 == e2),\n",
    "                # totality\n",
    "                Or(self.le(e1, e2), self.le(e2, e1)),\n",
    "\n",
    "                # zero\n",
    "                self.le(self.zero, e1),\n",
    "                self.one != self.zero,\n",
    "            ),\n",
    "        )\n",
    "\n",
    "        return Axioms\n",
    "    \n",
    "    def get_interp(self, model: ModelRef):\n",
    "        # create a dict of all the functions\n",
    "        interp = {}\n",
    "        for f in model.decls():\n",
    "            interp[f.name()] = model.get_interp(f)\n",
    "        \n",
    "        return interp\n",
    "\n",
    "M = DistLockModel()\n",
    "M.get_axioms() # only for testing"
   ]
  },
  {
   "cell_type": "code",
   "execution_count": 5,
   "metadata": {},
   "outputs": [],
   "source": [
    "# ep1 = Function('ep1', Node, Epoch)\n",
    "# ep2 = Function('ep2', Node, Epoch)\n",
    "\n",
    "# held1 = Function('held1', Node, BoolSort())\n",
    "# held2 = Function('held2', Node, BoolSort())\n",
    "\n",
    "# transfer1 = Function('transfer1', Epoch, Node, BoolSort())\n",
    "# transfer2 = Function('transfer2', Epoch, Node, BoolSort())\n",
    "\n",
    "# locked1 = Function('locked1', Epoch, Node, BoolSort())\n",
    "# locked2 = Function('locked2', Epoch, Node, BoolSort())"
   ]
  },
  {
   "cell_type": "code",
   "execution_count": 6,
   "metadata": {},
   "outputs": [
    {
     "data": {
      "text/html": [
       "&forall;e1, e2, n1 :\n",
       " le(e1, e2) &and; e1 &ne; e2 &rArr;\n",
       " le(e1, pre.ep(n1)) &or; &not;le(e2, pre.ep(n1))"
      ],
      "text/plain": [
       "ForAll([e1, e2, n1],\n",
       "       Implies(And(le(e1, e2), e1 != e2),\n",
       "               Or(le(e1, pre.ep(n1)),\n",
       "                  Not(le(e2, pre.ep(n1))))))"
      ]
     },
     "execution_count": 6,
     "metadata": {},
     "output_type": "execute_result"
    }
   ],
   "source": [
    "# Inv: le(E1, E2) & E1 ~= E2 -> le(E1,ep(N1)) | ~le(E2,ep(N1))\n",
    "\n",
    "def get_inv1(M: DistLockModel, S: DistLockState):\n",
    "    e1, e2 = Consts('e1 e2', Epoch)\n",
    "    n1 = Const('n1', Node)\n",
    "\n",
    "    Inv = ForAll([e1, e2, n1],\n",
    "        Implies(\n",
    "            And(\n",
    "                M.le(e1, e2),\n",
    "                e1 != e2\n",
    "            ),\n",
    "            Or(\n",
    "                M.le(e1, S.ep(n1)),\n",
    "                Not(\n",
    "                    M.le(e2, S.ep(n1))\n",
    "                )\n",
    "            )\n",
    "        )\n",
    "    )\n",
    "    return Inv\n",
    "\n",
    "M = DistLockModel()\n",
    "S = M.get_state('pre')\n",
    "get_inv1(M, S) # only for testing"
   ]
  },
  {
   "cell_type": "code",
   "execution_count": 7,
   "metadata": {},
   "outputs": [
    {
     "data": {
      "text/html": [
       "&forall;e1, n1, n2 :\n",
       " pre.locked(e1, n1) &and; pre.locked(e1, n2) &rArr; n1 = n2"
      ],
      "text/plain": [
       "ForAll([e1, n1, n2],\n",
       "       Implies(And(pre.locked(e1, n1), pre.locked(e1, n2)),\n",
       "               n1 == n2))"
      ]
     },
     "execution_count": 7,
     "metadata": {},
     "output_type": "execute_result"
    }
   ],
   "source": [
    "# Inv: safety property locked(E, N1) & locked(E, N2) -> N1 = N2\n",
    "\n",
    "def get_safety_inv(M: DistLockModel, S: DistLockState):\n",
    "    e1 = Const('e1', Epoch)\n",
    "    n1, n2 = Consts('n1 n2', Node)\n",
    "\n",
    "    Inv = ForAll([e1, n1, n2],\n",
    "        Implies(\n",
    "            And(\n",
    "                S.locked(e1, n1),\n",
    "                S.locked(e1, n2)\n",
    "            ),\n",
    "            n1 == n2\n",
    "        )\n",
    "    )\n",
    "\n",
    "    return Inv\n",
    "\n",
    "M = DistLockModel()\n",
    "S = M.get_state('pre')\n",
    "get_safety_inv(M, S) # only for testing"
   ]
  },
  {
   "cell_type": "code",
   "execution_count": 8,
   "metadata": {},
   "outputs": [
    {
     "data": {
      "text/html": [
       "&forall;n1, e1 :\n",
       " pre.transfer(e1, n1) &and; &not;le(e1, pre.ep(n1)) &rArr;\n",
       " post.held(n1) &and; post.ep(n1) = e1 &and; post.locked(e1, n1)"
      ],
      "text/plain": [
       "ForAll([n1, e1],\n",
       "       Implies(And(pre.transfer(e1, n1),\n",
       "                   Not(le(e1, pre.ep(n1)))),\n",
       "               And(post.held(n1),\n",
       "                   post.ep(n1) == e1,\n",
       "                   post.locked(e1, n1))))"
      ]
     },
     "execution_count": 8,
     "metadata": {},
     "output_type": "execute_result"
    }
   ],
   "source": [
    "# Accept action\n",
    "\n",
    "def get_acceptance_action(M: DistLockModel, S1: DistLockState, S2: DistLockState):\n",
    "    e1 = Const('e1', Epoch)\n",
    "    n1 = Const('n1', Node)\n",
    "\n",
    "    AcceptAction = ForAll([n1, e1],\n",
    "        Implies(\n",
    "            And(\n",
    "                S1.transfer(e1, n1),\n",
    "                Not(M.le(e1, S1.ep(n1)))\n",
    "            ),\n",
    "            And(\n",
    "                S2.held(n1),\n",
    "                S2.ep(n1) == e1,\n",
    "                S2.locked(e1, n1)\n",
    "            )\n",
    "        )\n",
    "    )\n",
    "\n",
    "    return AcceptAction\n",
    "\n",
    "M = DistLockModel()\n",
    "S1 = M.get_state('pre')\n",
    "S2 = M.get_state('post')\n",
    "get_acceptance_action(M, S1, S2) # only for testing"
   ]
  },
  {
   "cell_type": "code",
   "execution_count": 9,
   "metadata": {},
   "outputs": [
    {
     "name": "stdout",
     "output_type": "stream",
     "text": [
      "(let ((a!1 (forall ((e1 Epoch) (e2 Epoch) (e3 Epoch))\n",
      "             (and (le e1 e1)\n",
      "                  (=> (and (le e1 e2) (le e2 e3)) (le e1 e3))\n",
      "                  (=> (and (le e1 e2) (le e2 e1)) (= e1 e2))\n",
      "                  (or (le e1 e2) (le e2 e1))\n",
      "                  (le zero e1)\n",
      "                  (distinct one zero))))\n",
      "      (a!2 (forall ((e1 Epoch) (e2 Epoch) (n1 Node))\n",
      "             (let ((a!1 (or (le e1 (pre.ep n1)) (not (le e2 (pre.ep n1))))))\n",
      "               (=> (and (le e1 e2) (distinct e1 e2)) a!1))))\n",
      "      (a!3 (forall ((n1 Node) (e1 Epoch))\n",
      "             (let ((a!1 (and (pre.transfer e1 n1) (not (le e1 (pre.ep n1))))))\n",
      "               (=> a!1\n",
      "                   (and (post.held n1) (= (post.ep n1) e1) (post.locked e1 n1))))))\n",
      "      (a!4 (forall ((e1 Epoch) (e2 Epoch) (n1 Node))\n",
      "             (let ((a!1 (or (le e1 (post.ep n1)) (not (le e2 (post.ep n1))))))\n",
      "               (=> (and (le e1 e2) (distinct e1 e2)) a!1)))))\n",
      "  (not (=> a!1 (=> (and a!2 a!3) a!4))))\n"
     ]
    }
   ],
   "source": [
    "def get_inductiveness_vc(M: DistLockModel, S1: DistLockState, action_fn, S2: DistLockState, inv_fn):\n",
    "    vc = Not(\n",
    "        Implies(\n",
    "            M.get_axioms(),\n",
    "            Implies(\n",
    "                And(\n",
    "                    inv_fn(M, S1),\n",
    "                    action_fn(M, S1, S2),\n",
    "                ),\n",
    "                inv_fn(M, S2)\n",
    "            )\n",
    "        )\n",
    "    )\n",
    "    return vc\n",
    "\n",
    "M = DistLockModel()\n",
    "S1 = M.get_state('pre')\n",
    "S2 = M.get_state('post')\n",
    "vc = get_inductiveness_vc(M, S1, get_acceptance_action, S2, get_inv1)\n",
    "print(vc.sexpr()) # only for testing"
   ]
  },
  {
   "cell_type": "code",
   "execution_count": 10,
   "metadata": {},
   "outputs": [
    {
     "data": {
      "text/html": [
       "<b>unsat</b>"
      ],
      "text/plain": [
       "unsat"
      ]
     },
     "execution_count": 10,
     "metadata": {},
     "output_type": "execute_result"
    }
   ],
   "source": [
    "M = DistLockModel()\n",
    "S1 = M.get_state('pre')\n",
    "S2 = M.get_state('post')\n",
    "\n",
    "solver = Solver()\n",
    "solver.add(get_inductiveness_vc(M, S1, get_acceptance_action, S2, get_inv1))\n",
    "solver.check()"
   ]
  },
  {
   "cell_type": "code",
   "execution_count": 11,
   "metadata": {},
   "outputs": [
    {
     "data": {
      "text/html": [
       "<b>sat</b>"
      ],
      "text/plain": [
       "sat"
      ]
     },
     "execution_count": 11,
     "metadata": {},
     "output_type": "execute_result"
    }
   ],
   "source": [
    "M = DistLockModel()\n",
    "S1 = M.get_state('pre')\n",
    "S2 = M.get_state('post')\n",
    "\n",
    "solver = Solver()\n",
    "solver.add(get_inductiveness_vc(M, S1, get_acceptance_action, S2, get_safety_inv))\n",
    "solver.check()"
   ]
  },
  {
   "cell_type": "code",
   "execution_count": 12,
   "metadata": {},
   "outputs": [
    {
     "name": "stdout",
     "output_type": "stream",
     "text": [
      ";; universe for Epoch:\n",
      ";;   Epoch!val!2 Epoch!val!1 Epoch!val!0 \n",
      ";; -----------\n",
      ";; definitions for universe elements:\n",
      "(declare-fun Epoch!val!2 () Epoch)\n",
      "(declare-fun Epoch!val!1 () Epoch)\n",
      "(declare-fun Epoch!val!0 () Epoch)\n",
      ";; cardinality constraint:\n",
      "(forall ((x Epoch)) (or (= x Epoch!val!2) (= x Epoch!val!1) (= x Epoch!val!0)))\n",
      ";; -----------\n",
      ";; universe for Node:\n",
      ";;   Node!val!0 Node!val!1 \n",
      ";; -----------\n",
      ";; definitions for universe elements:\n",
      "(declare-fun Node!val!0 () Node)\n",
      "(declare-fun Node!val!1 () Node)\n",
      ";; cardinality constraint:\n",
      "(forall ((x Node)) (or (= x Node!val!0) (= x Node!val!1)))\n",
      ";; -----------\n",
      "(define-fun zero () Epoch\n",
      "  Epoch!val!2)\n",
      "(define-fun one () Epoch\n",
      "  Epoch!val!1)\n",
      "(define-fun post.held ((x!0 Node)) Bool\n",
      "  (= x!0 Node!val!1))\n",
      "(define-fun pre.ep ((x!0 Node)) Epoch\n",
      "  Epoch!val!1)\n",
      "(define-fun post.ep ((x!0 Node)) Epoch\n",
      "  (ite (= x!0 Node!val!1) Epoch!val!0\n",
      "    Epoch!val!1))\n",
      "(define-fun post.locked ((x!0 Epoch) (x!1 Node)) Bool\n",
      "  (or (and (not (= x!0 Epoch!val!1))\n",
      "           (not (= x!0 Epoch!val!2))\n",
      "           (= x!1 Node!val!1))\n",
      "      (and (not (= x!0 Epoch!val!1))\n",
      "           (not (= x!0 Epoch!val!2))\n",
      "           (not (= x!1 Node!val!1)))))\n",
      "(define-fun pre.transfer ((x!0 Epoch) (x!1 Node)) Bool\n",
      "  false)\n",
      "(define-fun pre.locked ((x!0 Epoch) (x!1 Node)) Bool\n",
      "  false)\n",
      "(define-fun le ((x!0 Epoch) (x!1 Epoch)) Bool\n",
      "  (or (and (not (= x!0 Epoch!val!1))\n",
      "           (not (= x!0 Epoch!val!2))\n",
      "           (= x!1 Epoch!val!1)\n",
      "           (not (= x!1 Epoch!val!2)))\n",
      "      (and (= x!0 Epoch!val!2) (= x!1 Epoch!val!1) (not (= x!1 Epoch!val!2)))\n",
      "      (and (not (= x!0 Epoch!val!1))\n",
      "           (not (= x!0 Epoch!val!2))\n",
      "           (not (= x!1 Epoch!val!1))\n",
      "           (not (= x!1 Epoch!val!2)))\n",
      "      (and (= x!0 Epoch!val!1)\n",
      "           (not (= x!0 Epoch!val!2))\n",
      "           (= x!1 Epoch!val!1)\n",
      "           (not (= x!1 Epoch!val!2)))\n",
      "      (and (= x!0 Epoch!val!2)\n",
      "           (not (= x!1 Epoch!val!1))\n",
      "           (not (= x!1 Epoch!val!2)))\n",
      "      (and (= x!0 Epoch!val!2) (= x!1 Epoch!val!2))))\n"
     ]
    }
   ],
   "source": [
    "m = solver.model()\n",
    "print(m.sexpr())"
   ]
  },
  {
   "cell_type": "code",
   "execution_count": 13,
   "metadata": {},
   "outputs": [
    {
     "data": {
      "text/plain": [
       "{'zero': Epoch!val!2,\n",
       " 'one': Epoch!val!1,\n",
       " 'post.held': [else -> Var(0) == Node!val!1],\n",
       " 'pre.ep': [else -> Epoch!val!1],\n",
       " 'post.ep': [Node!val!1 -> Epoch!val!0, else -> Epoch!val!1],\n",
       " 'post.locked': [else ->\n",
       "  Or(And(Not(Var(0) == Epoch!val!1),\n",
       "         Not(Var(0) == Epoch!val!2),\n",
       "         Var(1) == Node!val!1),\n",
       "     And(Not(Var(0) == Epoch!val!1),\n",
       "         Not(Var(0) == Epoch!val!2),\n",
       "         Not(Var(1) == Node!val!1)))],\n",
       " 'pre.transfer': [else -> False],\n",
       " 'pre.locked': [else -> False],\n",
       " 'le': [else ->\n",
       "  Or(And(Not(Var(0) == Epoch!val!1),\n",
       "         Not(Var(0) == Epoch!val!2),\n",
       "         Var(1) == Epoch!val!1,\n",
       "         Not(Var(1) == Epoch!val!2)),\n",
       "     And(Var(0) == Epoch!val!2,\n",
       "         Var(1) == Epoch!val!1,\n",
       "         Not(Var(1) == Epoch!val!2)),\n",
       "     And(Not(Var(0) == Epoch!val!1),\n",
       "         Not(Var(0) == Epoch!val!2),\n",
       "         Not(Var(1) == Epoch!val!1),\n",
       "         Not(Var(1) == Epoch!val!2)),\n",
       "     And(Var(0) == Epoch!val!1,\n",
       "         Not(Var(0) == Epoch!val!2),\n",
       "         Var(1) == Epoch!val!1,\n",
       "         Not(Var(1) == Epoch!val!2)),\n",
       "     And(Var(0) == Epoch!val!2,\n",
       "         Not(Var(1) == Epoch!val!1),\n",
       "         Not(Var(1) == Epoch!val!2)),\n",
       "     And(Var(0) == Epoch!val!2, Var(1) == Epoch!val!2))]}"
      ]
     },
     "execution_count": 13,
     "metadata": {},
     "output_type": "execute_result"
    }
   ],
   "source": [
    "M.get_interp(m)"
   ]
  },
  {
   "cell_type": "code",
   "execution_count": null,
   "metadata": {},
   "outputs": [],
   "source": []
  }
 ],
 "metadata": {
  "interpreter": {
   "hash": "7d3b008de750d86f6d8cf03c58ff2c3358cb2910fdd34da3c87349ecb5bdd54c"
  },
  "kernelspec": {
   "display_name": "Python 3.8.10 64-bit ('angr': virtualenv)",
   "language": "python",
   "name": "python3"
  },
  "language_info": {
   "codemirror_mode": {
    "name": "ipython",
    "version": 3
   },
   "file_extension": ".py",
   "mimetype": "text/x-python",
   "name": "python",
   "nbconvert_exporter": "python",
   "pygments_lexer": "ipython3",
   "version": "3.8.10"
  },
  "orig_nbformat": 4
 },
 "nbformat": 4,
 "nbformat_minor": 2
}
