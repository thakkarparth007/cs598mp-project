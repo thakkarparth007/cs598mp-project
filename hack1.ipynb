{
 "cells": [
  {
   "cell_type": "code",
   "execution_count": 1,
   "metadata": {},
   "outputs": [],
   "source": [
    "from z3 import *"
   ]
  },
  {
   "cell_type": "markdown",
   "metadata": {},
   "source": [
    "## Sorts"
   ]
  },
  {
   "cell_type": "code",
   "execution_count": 2,
   "metadata": {},
   "outputs": [],
   "source": [
    "# create uninterpreted sort Node and Epoch\n",
    "Node = DeclareSort('Node')\n",
    "Epoch = DeclareSort('Epoch')"
   ]
  },
  {
   "cell_type": "markdown",
   "metadata": {},
   "source": [
    "## State and Model"
   ]
  },
  {
   "cell_type": "code",
   "execution_count": 3,
   "metadata": {},
   "outputs": [
    {
     "data": {
      "text/plain": [
       "<__main__.DistLockState at 0x7fca14340460>"
      ]
     },
     "execution_count": 3,
     "metadata": {},
     "output_type": "execute_result"
    }
   ],
   "source": [
    "class DistLockState():\n",
    "    def __init__(self, name):\n",
    "        self.name = name\n",
    "\n",
    "        # relations\n",
    "        self.ep = Function(f'{name}.ep', Node, Epoch)\n",
    "        self.held = Function(f'{name}.held', Node, BoolSort())\n",
    "        self.transfer = Function(f'{name}.transfer', Epoch, Node, BoolSort())\n",
    "        self.locked = Function(f'{name}.locked', Epoch, Node, BoolSort())\n",
    "\n",
    "DistLockState('test_pre') # only for testing"
   ]
  },
  {
   "cell_type": "code",
   "execution_count": 4,
   "metadata": {},
   "outputs": [
    {
     "data": {
      "text/html": [
       "&forall;e1, e2, e3 :\n",
       " le(e1, e1) &and;\n",
       " (le(e1, e2) &and; le(e2, e3) &rArr; le(e1, e3)) &and;\n",
       " (le(e1, e2) &and; le(e2, e1) &rArr; e1 = e2) &and;\n",
       " (le(e1, e2) &or; le(e2, e1)) &and;\n",
       " le(zero, e1) &and;\n",
       " one &ne; zero"
      ],
      "text/plain": [
       "ForAll([e1, e2, e3],\n",
       "       And(le(e1, e1),\n",
       "           Implies(And(le(e1, e2), le(e2, e3)), le(e1, e3)),\n",
       "           Implies(And(le(e1, e2), le(e2, e1)), e1 == e2),\n",
       "           Or(le(e1, e2), le(e2, e1)),\n",
       "           le(zero, e1),\n",
       "           one != zero))"
      ]
     },
     "execution_count": 4,
     "metadata": {},
     "output_type": "execute_result"
    }
   ],
   "source": [
    "class DistLockModel():\n",
    "    def __init__(self):\n",
    "        # constants\n",
    "        self.le = Function(f'le', Epoch, Epoch, BoolSort())\n",
    "        self.zero = Const(f'zero', Epoch)\n",
    "        self.one = Const(f'one', Epoch)\n",
    "        self.first = Const(f'first', Node)\n",
    "\n",
    "        self.states = {}\n",
    "    \n",
    "    def get_state(self, name):\n",
    "        if name not in self.states:\n",
    "            self.states[name] = DistLockState(name)\n",
    "        return self.states[name]\n",
    "    \n",
    "    def get_axioms(self):\n",
    "        e1, e2, e3 = Consts('e1 e2 e3', Epoch)\n",
    "        \n",
    "        Axioms = ForAll([e1, e2, e3],\n",
    "            And(\n",
    "                # reflexivity\n",
    "                self.le(e1, e1),\n",
    "                # transitivity\n",
    "                Implies(And(self.le(e1, e2), self.le(e2, e3)), self.le(e1, e3)),\n",
    "                # antisymmetry\n",
    "                Implies(And(self.le(e1, e2), self.le(e2, e1)), e1 == e2),\n",
    "                # totality\n",
    "                Or(self.le(e1, e2), self.le(e2, e1)),\n",
    "\n",
    "                # zero\n",
    "                self.le(self.zero, e1),\n",
    "                self.one != self.zero,\n",
    "            ),\n",
    "        )\n",
    "\n",
    "        return Axioms\n",
    "    \n",
    "    def get_init_state_cond(self):\n",
    "        S = self.get_state('init')\n",
    "\n",
    "        n = Const('n', Node)\n",
    "        e = Const('e', Epoch)\n",
    "\n",
    "        cond = ForAll([n, e],\n",
    "            And(\n",
    "                S.held(n) == (n == self.first),\n",
    "                Implies(n != self.first, S.ep(n) == self.zero),\n",
    "                S.ep(self.first) == self.one,\n",
    "                S.transfer(e, n) == False,\n",
    "                S.locked(e, n) == False,\n",
    "            )\n",
    "        )\n",
    "\n",
    "        return cond\n",
    "    \n",
    "    def get_interp(self, model: ModelRef):\n",
    "        # create a dict of all the functions\n",
    "        interp = {}\n",
    "        for f in model.decls():\n",
    "            interp[f.name()] = model.get_interp(f)\n",
    "        \n",
    "        return interp\n",
    "\n",
    "M = DistLockModel()\n",
    "M.get_axioms() # only for testing"
   ]
  },
  {
   "cell_type": "markdown",
   "metadata": {},
   "source": [
    "## Invariants"
   ]
  },
  {
   "cell_type": "code",
   "execution_count": 5,
   "metadata": {},
   "outputs": [
    {
     "data": {
      "text/html": [
       "&forall;e1, e2, n1 :\n",
       " le(e1, e2) &and; e1 &ne; e2 &rArr;\n",
       " le(e1, pre.ep(n1)) &or; &not;le(e2, pre.ep(n1))"
      ],
      "text/plain": [
       "ForAll([e1, e2, n1],\n",
       "       Implies(And(le(e1, e2), e1 != e2),\n",
       "               Or(le(e1, pre.ep(n1)),\n",
       "                  Not(le(e2, pre.ep(n1))))))"
      ]
     },
     "execution_count": 5,
     "metadata": {},
     "output_type": "execute_result"
    }
   ],
   "source": [
    "# Inv: le(E1, E2) & E1 ~= E2 -> le(E1,ep(N1)) | ~le(E2,ep(N1))\n",
    "# in other words: e1 < e2 ==> e1 <= ep(N1) or e2 > ep(N1)\n",
    "\n",
    "def get_inv1(M: DistLockModel, S: DistLockState):\n",
    "    e1, e2 = Consts('e1 e2', Epoch)\n",
    "    n1 = Const('n1', Node)\n",
    "\n",
    "    Inv = ForAll([e1, e2, n1],\n",
    "        Implies(\n",
    "            And(\n",
    "                M.le(e1, e2),\n",
    "                e1 != e2\n",
    "            ),\n",
    "            Or(\n",
    "                M.le(e1, S.ep(n1)),\n",
    "                Not(\n",
    "                    M.le(e2, S.ep(n1))\n",
    "                )\n",
    "            )\n",
    "        )\n",
    "    )\n",
    "    return Inv\n",
    "\n",
    "M = DistLockModel()\n",
    "S = M.get_state('pre')\n",
    "get_inv1(M, S) # only for testing"
   ]
  },
  {
   "cell_type": "markdown",
   "metadata": {},
   "source": [
    "### Invariant parser"
   ]
  },
  {
   "cell_type": "code",
   "execution_count": 6,
   "metadata": {},
   "outputs": [],
   "source": [
    "invariants = \"\"\"\n",
    "le(E1, E2) & E1 ~= E2 -> le(E1,ep(N1)) | ~le(E2,ep(N1))\n",
    "le(E1, E2) & E1 ~= E2 -> locked(E1,N1) | ~transfer(E1,N1) | ~transfer(E2,N1)\n",
    "le(E1, E2) & E1 ~= E2 -> locked(E1,N1) | ~transfer(E1,N1) | ~le(E2,ep(N1))\n",
    "le(E1, E2) & E1 ~= E2 -> le(E1,ep(N1)) | ~locked(E2,N1)\n",
    "le(E1, E2) & E1 ~= E2 -> locked(E1,N1) | ~transfer(E1,N1) | ~locked(E2,N1)\n",
    "le(E1, E2) & E1 ~= E2 -> le(E1,ep(N1)) | ~transfer(E1,N1) | ~transfer(E2,N1)\n",
    "le(E1, E2) & E1 ~= E2 & N1 ~= N2 -> ~le(E2,ep(N1)) | ~le(ep(N1),ep(N2)) | ~le(ep(N2),ep(N1))\n",
    "le(E1, E2) & E1 ~= E2 & N1 ~= N2 -> le(E1,ep(N1)) | le(ep(N1),ep(N2)) | ~locked(E2,N2)\n",
    "le(E1, E2) & E1 ~= E2 & N1 ~= N2 -> le(E1,ep(N1)) | ~transfer(E1,N1) | ~locked(E2,N2)\n",
    "le(E1, E2) & E1 ~= E2 & N1 ~= N2 -> locked(E1,N1) | ~transfer(E1,N1) | ~le(E2,ep(N2))\n",
    "le(E1, E2) & E1 ~= E2 & N1 ~= N2 -> le(E1,ep(N1)) | ~held(N2) | ~transfer(E2,N1)\n",
    "le(E1, E2) & E1 ~= E2 & N1 ~= N2 -> le(E1,ep(N1)) | ~transfer(E1,N1) | ~le(E2,ep(N2))\n",
    "le(E1, E2) & E1 ~= E2 & N1 ~= N2 -> le(E1,ep(N1)) | ~locked(E2,N2) | ~le(ep(N2),ep(N1))\n",
    "le(E1, E2) & E1 ~= E2 & N1 ~= N2 -> locked(E1,N1) | ~transfer(E1,N1) | ~transfer(E2,N2)\n",
    "le(E1, E2) & E1 ~= E2 & N1 ~= N2 -> le(E1,ep(N1)) | le(ep(N1),ep(N2)) | ~le(E2,ep(N2))\n",
    "le(E1, E2) & E1 ~= E2 & N1 ~= N2 -> le(E1,ep(N1)) | ~transfer(E1,N1) | ~transfer(E2,N2)\n",
    "le(E1, E2) & E1 ~= E2 & N1 ~= N2 -> le(E1,ep(N1)) | ~transfer(E2,N1) | ~le(E2,ep(N2))\n",
    "le(E1, E2) & E1 ~= E2 & N1 ~= N2 -> le(E1,ep(N1)) | ~le(ep(N2),ep(N1)) | ~le(E2,ep(N2))\n",
    "le(E1, E2) & E1 ~= E2 & N1 ~= N2 -> locked(E1,N1) | ~transfer(E1,N1) | ~locked(E2,N2)\n",
    "locked(E1,N1) | ~transfer(E1,N1) | ~le(E1,ep(N1))\n",
    "locked(E1,N1) | ~held(N1) | ~transfer(E1,N1)\n",
    "le(E1,ep(N1)) | ~held(N1) | ~transfer(E1,N1)\n",
    "transfer(E1,N1) | ~locked(E1,N1)\n",
    "le(E1,ep(N1)) | ~locked(E1,N1)\n",
    "N1 ~= N2 -> ~le(ep(N1),ep(N2)) | ~le(ep(N2),ep(N1)) | ~first=N1\n",
    "N1 ~= N2 -> le(E1,ep(N1)) | le(ep(N1),ep(N2)) | ~locked(E1,N2)\n",
    "N1 ~= N2 -> le(E1,ep(N1)) | le(ep(N1),ep(N2)) | ~le(E1,ep(N2))\n",
    "N1 ~= N2 -> le(ep(N1),ep(N2)) | ~held(N2)\n",
    "N1 ~= N2 -> ~held(N1) | ~le(ep(N1),ep(N2))\n",
    "N1 ~= N2 -> locked(E1,N1) | ~held(N2) | ~transfer(E1,N1)\n",
    "N1 ~= N2 -> le(ep(N1),ep(N2)) | le(ep(N2),ep(N1))\n",
    "N1 ~= N2 -> le(E1,ep(N1)) | ~locked(E1,N2) | ~le(ep(N2),ep(N1))\n",
    "N1 ~= N2 -> ~held(N1) | ~held(N2)\n",
    "N1 ~= N2 -> locked(E1,N1) | ~transfer(E1,N1) | ~le(E1,ep(N2))\n",
    "N1 ~= N2 -> ~locked(E1,N1) | ~locked(E1,N2)\n",
    "N1 ~= N2 -> ~first=N1 | ~first=N2\n",
    "N1 ~= N2 -> ~transfer(E1,N1) | ~transfer(E1,N2)\n",
    "N1 ~= N2 -> le(E1,ep(N1)) | ~held(N1) | ~transfer(E1,N2)\n",
    "N1 ~= N2 -> ~transfer(E1,N1) | ~locked(E1,N2)\n",
    "N1 ~= N2 -> ~locked(E1,N1) | ~le(ep(N1),ep(N2)) | ~le(ep(N2),ep(N1))\n",
    "N1 ~= N2 -> le(E1,ep(N1)) | ~held(N1) | ~locked(E1,N2)\n",
    "N1 ~= N2 -> le(E1,ep(N1)) | ~le(ep(N2),ep(N1)) | ~le(E1,ep(N2))\n",
    "N1 ~= N2 -> le(E1,ep(N1)) | ~held(N1) | ~le(E1,ep(N2))\n",
    "N1 ~= N2 -> le(E1,ep(N1)) | ~held(N2) | ~transfer(E1,N1)\n",
    "N1 ~= N2 -> le(E1,ep(N1)) | ~transfer(E1,N1) | ~le(E1,ep(N2))\n",
    "\"\"\".replace(\"~=\", \"!=\").strip().split(\"\\n\")\n",
    "\n",
    "def parse(inv_str, vars):\n",
    "    inv_str = inv_str.strip()\n",
    "\n",
    "    if inv_str.count(\"->\") > 1:\n",
    "        raise Exception(\"Too many ->\")\n",
    "\n",
    "    if '->' in inv_str:\n",
    "        left, right = inv_str.split('->')\n",
    "        return f\"Implies({parse(left, vars)},{parse(right, vars)})\"\n",
    "\n",
    "    if \"&\" in inv_str:\n",
    "        parts = inv_str.split(\"&\")\n",
    "        return f\"And([{','.join([parse(p, vars) for p in parts])}])\"\n",
    "\n",
    "    if \"|\" in inv_str:\n",
    "        parts = inv_str.split(\"|\")\n",
    "        return f\"Or([{','.join([parse(p, vars) for p in parts])}])\"\n",
    "\n",
    "    if \"~\" in inv_str:\n",
    "        return f\"Not({parse(inv_str[1:], vars)})\"\n",
    "\n",
    "    if \"!=\" in inv_str:\n",
    "        left, right = inv_str.split(\"!=\")\n",
    "        return f\"{parse(left, vars)} != {parse(right, vars)}\"\n",
    "    \n",
    "    if \"=\" in inv_str:\n",
    "        left, right = inv_str.split(\"=\")\n",
    "        return f\"{parse(left, vars)} == {parse(right, vars)}\"\n",
    "\n",
    "    if inv_str.endswith(\")\"):\n",
    "        first_brace_idx = inv_str.index(\"(\")\n",
    "        name = inv_str[:first_brace_idx]\n",
    "        args = inv_str[first_brace_idx+1:-1].split(\",\")\n",
    "        prefix = \"M.\" if name == 'le' else \"S.\"\n",
    "        return f\"{prefix}{name}({','.join([parse(a, vars) for a in args])})\"\n",
    "\n",
    "    if inv_str == \"first\":\n",
    "        return \"M.first\"\n",
    "\n",
    "    vars.add(inv_str)\n",
    "    return inv_str\n",
    "\n",
    "def get_inv_fn(fn_name, inv_str, only_code=False):\n",
    "    vars = set()\n",
    "    inv_fn_str = parse(inv_str, vars)\n",
    "\n",
    "    nodes = [v for v in vars if v.startswith(\"N\")]\n",
    "    epochs = [v for v in vars if v.startswith(\"E\")]\n",
    "\n",
    "    code = []\n",
    "    if len(nodes) == 1:\n",
    "        code += [nodes[0] + \" = Const('\" + nodes[0] + \"', Node)\"]\n",
    "    elif len(nodes) > 1:\n",
    "        code += [\", \".join(nodes) + \" = Consts('\" + \" \".join(nodes) + \"', Node)\"]\n",
    "    \n",
    "    if len(epochs) == 1:\n",
    "        code += [epochs[0] + \" = Const('\" + epochs[0] + \"', Epoch)\"]\n",
    "    elif len(epochs) > 1:\n",
    "        code += [\", \".join(epochs) + \" = Consts('\" + \" \".join(epochs) + \"', Epoch)\"]\n",
    "    \n",
    "    code += [\"inv = ForAll([\" + \", \".join(vars) + \"], \" + inv_fn_str + \")\"]\n",
    "    code += [\"return inv\"]\n",
    "\n",
    "    code = f\"def {fn_name}(M, S):\\n\\t\" + \"\\n\\t\".join(code)\n",
    "    if only_code:\n",
    "        return code\n",
    "\n",
    "    ldict = {}\n",
    "    exec(code)\n",
    "    exec(f\"ldict['fn'] = {fn_name}\")\n",
    "    return ldict['fn']\n",
    "\n",
    "all_invars = [get_inv_fn(\"inv_fn_\" + str(i), inv) for i, inv in enumerate(invariants)]"
   ]
  },
  {
   "cell_type": "code",
   "execution_count": 7,
   "metadata": {},
   "outputs": [
    {
     "name": "stdout",
     "output_type": "stream",
     "text": [
      "le(E1, E2) & E1 != E2 -> le(E1,ep(N1)) | ~le(E2,ep(N1))\n"
     ]
    },
    {
     "data": {
      "text/html": [
       "&forall;E2, N1, E1 :\n",
       " le(E1, E2) &and; E1 &ne; E2 &rArr;\n",
       " le(E1, pre.ep(N1)) &or; &not;le(E2, pre.ep(N1))"
      ],
      "text/plain": [
       "ForAll([E2, N1, E1],\n",
       "       Implies(And(le(E1, E2), E1 != E2),\n",
       "               Or(le(E1, pre.ep(N1)),\n",
       "                  Not(le(E2, pre.ep(N1))))))"
      ]
     },
     "execution_count": 7,
     "metadata": {},
     "output_type": "execute_result"
    }
   ],
   "source": [
    "M = DistLockModel()\n",
    "S = M.get_state('pre')\n",
    "\n",
    "print(invariants[0])\n",
    "all_invars[0](M, S)"
   ]
  },
  {
   "cell_type": "markdown",
   "metadata": {},
   "source": [
    "### Safety Condition"
   ]
  },
  {
   "cell_type": "code",
   "execution_count": 8,
   "metadata": {},
   "outputs": [
    {
     "data": {
      "text/html": [
       "&forall;e1, n1, n2 :\n",
       " pre.locked(e1, n1) &and; pre.locked(e1, n2) &rArr; n1 = n2"
      ],
      "text/plain": [
       "ForAll([e1, n1, n2],\n",
       "       Implies(And(pre.locked(e1, n1), pre.locked(e1, n2)),\n",
       "               n1 == n2))"
      ]
     },
     "execution_count": 8,
     "metadata": {},
     "output_type": "execute_result"
    }
   ],
   "source": [
    "# Inv: safety property locked(E, N1) & locked(E, N2) -> N1 = N2\n",
    "\n",
    "def get_safety_inv(M: DistLockModel, S: DistLockState):\n",
    "    e1 = Const('e1', Epoch)\n",
    "    n1, n2 = Consts('n1 n2', Node)\n",
    "\n",
    "    Inv = ForAll([e1, n1, n2],\n",
    "        Implies(\n",
    "            And(\n",
    "                S.locked(e1, n1),\n",
    "                S.locked(e1, n2)\n",
    "            ),\n",
    "            n1 == n2\n",
    "        )\n",
    "    )\n",
    "\n",
    "    return Inv\n",
    "\n",
    "M = DistLockModel()\n",
    "S = M.get_state('pre')\n",
    "get_safety_inv(M, S) # only for testing"
   ]
  },
  {
   "cell_type": "markdown",
   "metadata": {},
   "source": [
    "## Actions"
   ]
  },
  {
   "cell_type": "code",
   "execution_count": 9,
   "metadata": {},
   "outputs": [
    {
     "data": {
      "text/html": [
       "&forall;n1, n2, e :\n",
       " pre.held(n1) &and; &not;le(e, pre.ep(n1)) &rArr;\n",
       " post.transfer(e, n2) &and; post.held(n1) = False"
      ],
      "text/plain": [
       "ForAll([n1, n2, e],\n",
       "       Implies(And(pre.held(n1), Not(le(e, pre.ep(n1)))),\n",
       "               And(post.transfer(e, n2),\n",
       "                   post.held(n1) == False)))"
      ]
     },
     "execution_count": 9,
     "metadata": {},
     "output_type": "execute_result"
    }
   ],
   "source": [
    "# Grant action\n",
    "\n",
    "def get_grant_action(M: DistLockModel, S1: DistLockState, S2: DistLockState):\n",
    "    e = Const('e', Epoch)\n",
    "    n1, n2 = Consts('n1 n2', Node)\n",
    "\n",
    "    AcceptAction = ForAll([n1, n2, e],\n",
    "        Implies(\n",
    "            # precondition\n",
    "            And(\n",
    "                S1.held(n1),\n",
    "                Not(M.le(e, S1.ep(n1)))\n",
    "            ),\n",
    "            # postcondition\n",
    "            And(\n",
    "                S2.transfer(e, n2),\n",
    "                S2.held(n1) == False\n",
    "            )\n",
    "        )\n",
    "    )\n",
    "\n",
    "    return AcceptAction\n",
    "\n",
    "M = DistLockModel()\n",
    "S1 = M.get_state('pre')\n",
    "S2 = M.get_state('post')\n",
    "get_grant_action(M, S1, S2) # only for testing"
   ]
  },
  {
   "cell_type": "code",
   "execution_count": 10,
   "metadata": {},
   "outputs": [
    {
     "data": {
      "text/html": [
       "&forall;n, e :\n",
       " pre.transfer(e, n) &and; &not;le(e, pre.ep(n)) &rArr;\n",
       " post.held(n) &and; post.ep(n) = e &and; post.locked(e, n)"
      ],
      "text/plain": [
       "ForAll([n, e],\n",
       "       Implies(And(pre.transfer(e, n),\n",
       "                   Not(le(e, pre.ep(n)))),\n",
       "               And(post.held(n),\n",
       "                   post.ep(n) == e,\n",
       "                   post.locked(e, n))))"
      ]
     },
     "execution_count": 10,
     "metadata": {},
     "output_type": "execute_result"
    }
   ],
   "source": [
    "# Accept action\n",
    "\n",
    "def get_accept_action(M: DistLockModel, S1: DistLockState, S2: DistLockState):\n",
    "    e = Const('e', Epoch)\n",
    "    n = Const('n', Node)\n",
    "\n",
    "    AcceptAction = ForAll([n, e],\n",
    "        Implies(\n",
    "            And(\n",
    "                S1.transfer(e, n),\n",
    "                Not(M.le(e, S1.ep(n)))\n",
    "            ),\n",
    "            And(\n",
    "                S2.held(n),\n",
    "                S2.ep(n) == e,\n",
    "                S2.locked(e, n)\n",
    "            )\n",
    "        )\n",
    "    )\n",
    "\n",
    "    return AcceptAction\n",
    "\n",
    "M = DistLockModel()\n",
    "S1 = M.get_state('pre')\n",
    "S2 = M.get_state('post')\n",
    "get_accept_action(M, S1, S2) # only for testing"
   ]
  },
  {
   "cell_type": "markdown",
   "metadata": {},
   "source": [
    "## VCs"
   ]
  },
  {
   "cell_type": "code",
   "execution_count": 11,
   "metadata": {},
   "outputs": [
    {
     "name": "stdout",
     "output_type": "stream",
     "text": [
      "(let ((a!1 (forall ((e1 Epoch) (e2 Epoch) (e3 Epoch))\n",
      "             (and (le e1 e1)\n",
      "                  (=> (and (le e1 e2) (le e2 e3)) (le e1 e3))\n",
      "                  (=> (and (le e1 e2) (le e2 e1)) (= e1 e2))\n",
      "                  (or (le e1 e2) (le e2 e1))\n",
      "                  (le zero e1)\n",
      "                  (distinct one zero))))\n",
      "      (a!2 (forall ((n Node) (e Epoch))\n",
      "             (and (= (init.held n) (= n first))\n",
      "                  (=> (distinct n first) (= (init.ep n) zero))\n",
      "                  (= (init.ep first) one)\n",
      "                  (= (init.transfer e n) false)\n",
      "                  (= (init.locked e n) false))))\n",
      "      (a!3 (forall ((e1 Epoch) (e2 Epoch) (n1 Node))\n",
      "             (let ((a!1 (or (le e1 (init.ep n1)) (not (le e2 (init.ep n1))))))\n",
      "               (=> (and (le e1 e2) (distinct e1 e2)) a!1)))))\n",
      "  (=> a!1 (=> a!2 a!3)))\n"
     ]
    }
   ],
   "source": [
    "def get_init_vc(M: DistLockModel, inv_fn):\n",
    "    vc = ( #Not(\n",
    "        Implies(\n",
    "            M.get_axioms(),\n",
    "            Implies(\n",
    "                M.get_init_state_cond(),\n",
    "                inv_fn(M, M.get_state('init'))\n",
    "            )\n",
    "        )\n",
    "    )\n",
    "    return vc\n",
    "\n",
    "M = DistLockModel()\n",
    "vc = get_init_vc(M, get_inv1)\n",
    "print(vc.sexpr()) # only for testing"
   ]
  },
  {
   "cell_type": "code",
   "execution_count": 12,
   "metadata": {},
   "outputs": [
    {
     "name": "stdout",
     "output_type": "stream",
     "text": [
      "(let ((a!1 (forall ((e1 Epoch) (e2 Epoch) (e3 Epoch))\n",
      "             (and (le e1 e1)\n",
      "                  (=> (and (le e1 e2) (le e2 e3)) (le e1 e3))\n",
      "                  (=> (and (le e1 e2) (le e2 e1)) (= e1 e2))\n",
      "                  (or (le e1 e2) (le e2 e1))\n",
      "                  (le zero e1)\n",
      "                  (distinct one zero))))\n",
      "      (a!2 (forall ((e1 Epoch) (e2 Epoch) (n1 Node))\n",
      "             (let ((a!1 (or (le e1 (pre.ep n1)) (not (le e2 (pre.ep n1))))))\n",
      "               (=> (and (le e1 e2) (distinct e1 e2)) a!1))))\n",
      "      (a!3 (forall ((n Node) (e Epoch))\n",
      "             (let ((a!1 (and (pre.transfer e n) (not (le e (pre.ep n))))))\n",
      "               (=> a!1 (and (post.held n) (= (post.ep n) e) (post.locked e n))))))\n",
      "      (a!4 (forall ((e1 Epoch) (e2 Epoch) (n1 Node))\n",
      "             (let ((a!1 (or (le e1 (post.ep n1)) (not (le e2 (post.ep n1))))))\n",
      "               (=> (and (le e1 e2) (distinct e1 e2)) a!1)))))\n",
      "  (=> a!1 (=> (and a!2 a!3) a!4)))\n"
     ]
    }
   ],
   "source": [
    "def get_inductiveness_vc(M: DistLockModel, S1: DistLockState, action_fn, S2: DistLockState, inv_fn):\n",
    "    vc = ( #Not(\n",
    "        Implies(\n",
    "            M.get_axioms(),\n",
    "            Implies(\n",
    "                And(\n",
    "                    inv_fn(M, S1),\n",
    "                    action_fn(M, S1, S2),\n",
    "                ),\n",
    "                inv_fn(M, S2)\n",
    "            )\n",
    "        )\n",
    "    )\n",
    "    return vc\n",
    "\n",
    "M = DistLockModel()\n",
    "S1 = M.get_state('pre')\n",
    "S2 = M.get_state('post')\n",
    "vc = get_inductiveness_vc(M, S1, get_accept_action, S2, get_inv1)\n",
    "print(vc.sexpr()) # only for testing"
   ]
  },
  {
   "cell_type": "code",
   "execution_count": 13,
   "metadata": {},
   "outputs": [
    {
     "name": "stdout",
     "output_type": "stream",
     "text": [
      "(let ((a!1 (forall ((e1 Epoch) (e2 Epoch) (e3 Epoch))\n",
      "             (and (le e1 e1)\n",
      "                  (=> (and (le e1 e2) (le e2 e3)) (le e1 e3))\n",
      "                  (=> (and (le e1 e2) (le e2 e1)) (= e1 e2))\n",
      "                  (or (le e1 e2) (le e2 e1))\n",
      "                  (le zero e1)\n",
      "                  (distinct one zero))))\n",
      "      (a!2 (forall ((e1 Epoch) (e2 Epoch) (n1 Node))\n",
      "             (let ((a!1 (or (le e1 (pre.ep n1)) (not (le e2 (pre.ep n1))))))\n",
      "               (=> (and (le e1 e2) (distinct e1 e2)) a!1))))\n",
      "      (a!3 (forall ((e1 Epoch) (n1 Node) (n2 Node))\n",
      "             (=> (and (pre.locked e1 n1) (pre.locked e1 n2)) (= n1 n2)))))\n",
      "  (=> a!1 (=> a!2 a!3)))\n"
     ]
    }
   ],
   "source": [
    "def get_safety_vc(M: DistLockModel, S: DistLockState, inv_fn, safety_fn):\n",
    "    vc = ( # Not(\n",
    "        Implies(\n",
    "            M.get_axioms(),\n",
    "            Implies(\n",
    "                inv_fn(M, S),\n",
    "                safety_fn(M, S)\n",
    "            )\n",
    "        )\n",
    "    )\n",
    "    return vc\n",
    "\n",
    "M = DistLockModel()\n",
    "S1 = M.get_state('pre')\n",
    "vc = get_safety_vc(M, S1, get_inv1, get_safety_inv)\n",
    "print(vc.sexpr()) # only for testing"
   ]
  },
  {
   "cell_type": "markdown",
   "metadata": {},
   "source": [
    "## End to end examples"
   ]
  },
  {
   "cell_type": "markdown",
   "metadata": {},
   "source": [
    "### Example 1"
   ]
  },
  {
   "cell_type": "code",
   "execution_count": 14,
   "metadata": {},
   "outputs": [
    {
     "data": {
      "text/html": [
       "<b>unsat</b>"
      ],
      "text/plain": [
       "unsat"
      ]
     },
     "execution_count": 14,
     "metadata": {},
     "output_type": "execute_result"
    }
   ],
   "source": [
    "M = DistLockModel()\n",
    "S1 = M.get_state('pre')\n",
    "S2 = M.get_state('post')\n",
    "\n",
    "inv = get_inv1\n",
    "\n",
    "solver = Solver()\n",
    "# solver.add()\n",
    "solver.add(Not(And(\n",
    "    get_init_vc(M, inv),\n",
    "    get_inductiveness_vc(M, S1, get_accept_action, S2, inv)\n",
    ")))\n",
    "solver.check()"
   ]
  },
  {
   "cell_type": "markdown",
   "metadata": {},
   "source": [
    "The above tells that `get_inv1()` invariant satisfies the initial condition and is also inductive."
   ]
  },
  {
   "cell_type": "code",
   "execution_count": 15,
   "metadata": {},
   "outputs": [
    {
     "data": {
      "text/html": [
       "<b>sat</b>"
      ],
      "text/plain": [
       "sat"
      ]
     },
     "execution_count": 15,
     "metadata": {},
     "output_type": "execute_result"
    }
   ],
   "source": [
    "M = DistLockModel()\n",
    "S1 = M.get_state('pre')\n",
    "S2 = M.get_state('post')\n",
    "\n",
    "inv = get_inv1\n",
    "\n",
    "solver = Solver()\n",
    "# solver.add()\n",
    "solver.add(Not(And(\n",
    "    get_init_vc(M, inv),\n",
    "    get_inductiveness_vc(M, S1, get_accept_action, S2, inv),\n",
    "    get_safety_vc(M, S1, inv, get_safety_inv)\n",
    ")))\n",
    "solver.check()"
   ]
  },
  {
   "cell_type": "markdown",
   "metadata": {},
   "source": [
    "However, it does not imply the safety condition."
   ]
  },
  {
   "cell_type": "markdown",
   "metadata": {},
   "source": [
    "### Example 2"
   ]
  },
  {
   "cell_type": "code",
   "execution_count": 16,
   "metadata": {},
   "outputs": [
    {
     "data": {
      "text/html": [
       "<b>unsat</b>"
      ],
      "text/plain": [
       "unsat"
      ]
     },
     "execution_count": 16,
     "metadata": {},
     "output_type": "execute_result"
    }
   ],
   "source": [
    "M = DistLockModel()\n",
    "S1 = M.get_state('pre')\n",
    "S2 = M.get_state('post')\n",
    "\n",
    "inv = get_safety_inv # notice this <-- it's get_safety_inv and not get_inv1.\n",
    "\n",
    "solver = Solver()\n",
    "# solver.add()\n",
    "solver.add(Not(And(\n",
    "    get_init_vc(M, inv),\n",
    "    # get_inductiveness_vc(M, S1, get_accept_action, S2, inv)\n",
    ")))\n",
    "solver.check()"
   ]
  },
  {
   "cell_type": "markdown",
   "metadata": {},
   "source": [
    "The safety invariant satisfies the initial condition."
   ]
  },
  {
   "cell_type": "code",
   "execution_count": 17,
   "metadata": {},
   "outputs": [
    {
     "data": {
      "text/html": [
       "<b>sat</b>"
      ],
      "text/plain": [
       "sat"
      ]
     },
     "execution_count": 17,
     "metadata": {},
     "output_type": "execute_result"
    }
   ],
   "source": [
    "M = DistLockModel()\n",
    "S1 = M.get_state('pre')\n",
    "S2 = M.get_state('post')\n",
    "\n",
    "inv = get_safety_inv # notice this <-- it's get_safety_inv and not get_inv1.\n",
    "\n",
    "solver = Solver()\n",
    "# solver.add()\n",
    "solver.add(Not(And(\n",
    "    get_init_vc(M, inv),\n",
    "    get_inductiveness_vc(M, S1, get_accept_action, S2, inv)\n",
    ")))\n",
    "solver.check()"
   ]
  },
  {
   "cell_type": "markdown",
   "metadata": {},
   "source": [
    "However, the safety invariant isn't inductive."
   ]
  },
  {
   "cell_type": "markdown",
   "metadata": {},
   "source": [
    "### Example 3"
   ]
  },
  {
   "cell_type": "code",
   "execution_count": 58,
   "metadata": {},
   "outputs": [
    {
     "data": {
      "text/html": [
       "<b>sat</b>"
      ],
      "text/plain": [
       "sat"
      ]
     },
     "execution_count": 58,
     "metadata": {},
     "output_type": "execute_result"
    }
   ],
   "source": [
    "M = DistLockModel()\n",
    "S1 = M.get_state('pre')\n",
    "\n",
    "solver = Solver()\n",
    "solver.add(Not(And(\n",
    "    get_init_vc(M, get_inv1),\n",
    "    get_safety_vc(M, S1, get_inv1, get_safety_inv))\n",
    "))\n",
    "solver.check()"
   ]
  },
  {
   "cell_type": "markdown",
   "metadata": {},
   "source": [
    "This shows that `get_inv1` doesn't imply safety condition."
   ]
  },
  {
   "cell_type": "markdown",
   "metadata": {},
   "source": [
    "The conditions given to the solver are shown below:"
   ]
  },
  {
   "cell_type": "code",
   "execution_count": 59,
   "metadata": {},
   "outputs": [
    {
     "name": "stdout",
     "output_type": "stream",
     "text": [
      "(declare-sort Epoch 0)\n",
      "(declare-sort Node 0)\n",
      "(declare-fun pre.locked (Epoch Node) Bool)\n",
      "(declare-fun le (Epoch Epoch) Bool)\n",
      "(declare-fun pre.ep (Node) Epoch)\n",
      "(declare-fun zero () Epoch)\n",
      "(declare-fun one () Epoch)\n",
      "(declare-fun init.ep (Node) Epoch)\n",
      "(declare-fun init.locked (Epoch Node) Bool)\n",
      "(declare-fun init.transfer (Epoch Node) Bool)\n",
      "(declare-fun first () Node)\n",
      "(declare-fun init.held (Node) Bool)\n",
      "(assert (let ((a!1 (forall ((e1 Epoch) (e2 Epoch) (e3 Epoch))\n",
      "             (and (le e1 e1)\n",
      "                  (=> (and (le e1 e2) (le e2 e3)) (le e1 e3))\n",
      "                  (=> (and (le e1 e2) (le e2 e1)) (= e1 e2))\n",
      "                  (or (le e1 e2) (le e2 e1))\n",
      "                  (le zero e1)\n",
      "                  (distinct one zero))))\n",
      "      (a!2 (forall ((n Node) (e Epoch))\n",
      "             (and (= (init.held n) (= n first))\n",
      "                  (=> (distinct n first) (= (init.ep n) zero))\n",
      "                  (= (init.ep first) one)\n",
      "                  (= (init.transfer e n) false)\n",
      "                  (= (init.locked e n) false))))\n",
      "      (a!3 (forall ((e1 Epoch) (e2 Epoch) (n1 Node))\n",
      "             (let ((a!1 (or (le e1 (init.ep n1)) (not (le e2 (init.ep n1))))))\n",
      "               (=> (and (le e1 e2) (distinct e1 e2)) a!1))))\n",
      "      (a!4 (forall ((e1 Epoch) (e2 Epoch) (n1 Node))\n",
      "             (let ((a!1 (or (le e1 (pre.ep n1)) (not (le e2 (pre.ep n1))))))\n",
      "               (=> (and (le e1 e2) (distinct e1 e2)) a!1))))\n",
      "      (a!5 (forall ((e1 Epoch) (n1 Node) (n2 Node))\n",
      "             (=> (and (pre.locked e1 n1) (pre.locked e1 n2)) (= n1 n2)))))\n",
      "  (not (and (=> a!1 (=> a!2 a!3)) (=> a!1 (=> a!4 a!5))))))\n",
      "(rmodel->model-converter-wrapper\n",
      "n1!254 -> Node!val!1\n",
      "e1!252 -> Epoch!val!0\n",
      "n2!253 -> Node!val!2\n",
      "e1!255 -> Epoch!val!2\n",
      "one -> Epoch!val!4\n",
      "elem!256 -> Epoch!val!5\n",
      "n1!250 -> Node!val!0\n",
      "elem!306 -> Node!val!1\n",
      "zero -> Epoch!val!3\n",
      "pre.ep -> {\n",
      "  Epoch!val!2\n",
      "}\n",
      "k!307 -> {\n",
      "  Epoch!val!4 -> Epoch!val!4\n",
      "  Epoch!val!0 -> Epoch!val!0\n",
      "  Epoch!val!2 -> Epoch!val!2\n",
      "  Epoch!val!3 -> Epoch!val!3\n",
      "  Epoch!val!5 -> Epoch!val!5\n",
      "  else -> Epoch!val!1\n",
      "}\n",
      "le -> {\n",
      "  (le!309 (k!307 (:var 0)) (k!307 (:var 1)))\n",
      "}\n",
      "pre.locked -> {\n",
      "  true\n",
      "}\n",
      "init.ep -> {\n",
      "  Epoch!val!1\n",
      "}\n",
      "le!309 -> {\n",
      "  Epoch!val!0 Epoch!val!0 -> true\n",
      "  Epoch!val!3 Epoch!val!0 -> true\n",
      "  Epoch!val!3 Epoch!val!5 -> true\n",
      "  Epoch!val!5 Epoch!val!5 -> true\n",
      "  Epoch!val!3 Epoch!val!3 -> true\n",
      "  Epoch!val!1 Epoch!val!5 -> true\n",
      "  Epoch!val!0 Epoch!val!5 -> true\n",
      "  Epoch!val!1 Epoch!val!1 -> true\n",
      "  Epoch!val!1 Epoch!val!0 -> true\n",
      "  Epoch!val!3 Epoch!val!1 -> true\n",
      "  Epoch!val!3 Epoch!val!2 -> true\n",
      "  Epoch!val!4 Epoch!val!2 -> true\n",
      "  Epoch!val!2 Epoch!val!2 -> true\n",
      "  Epoch!val!5 Epoch!val!2 -> true\n",
      "  Epoch!val!1 Epoch!val!2 -> true\n",
      "  Epoch!val!1 Epoch!val!4 -> true\n",
      "  Epoch!val!4 Epoch!val!4 -> true\n",
      "  Epoch!val!3 Epoch!val!4 -> true\n",
      "  Epoch!val!5 Epoch!val!4 -> true\n",
      "  Epoch!val!0 Epoch!val!2 -> true\n",
      "  Epoch!val!0 Epoch!val!4 -> true\n",
      "  else -> false\n",
      "}\n",
      ")\n",
      "\n"
     ]
    }
   ],
   "source": [
    "print(solver.sexpr())"
   ]
  },
  {
   "cell_type": "markdown",
   "metadata": {},
   "source": [
    "The counter example given by Z3 is shown below"
   ]
  },
  {
   "cell_type": "code",
   "execution_count": 60,
   "metadata": {},
   "outputs": [
    {
     "name": "stdout",
     "output_type": "stream",
     "text": [
      ";; universe for Epoch:\n",
      ";;   Epoch!val!3 Epoch!val!4 Epoch!val!2 Epoch!val!5 Epoch!val!1 Epoch!val!0 \n",
      ";; -----------\n",
      ";; definitions for universe elements:\n",
      "(declare-fun Epoch!val!3 () Epoch)\n",
      "(declare-fun Epoch!val!4 () Epoch)\n",
      "(declare-fun Epoch!val!2 () Epoch)\n",
      "(declare-fun Epoch!val!5 () Epoch)\n",
      "(declare-fun Epoch!val!1 () Epoch)\n",
      "(declare-fun Epoch!val!0 () Epoch)\n",
      ";; cardinality constraint:\n",
      "(forall ((x Epoch))\n",
      "        (or (= x Epoch!val!3)\n",
      "            (= x Epoch!val!4)\n",
      "            (= x Epoch!val!2)\n",
      "            (= x Epoch!val!5)\n",
      "            (= x Epoch!val!1)\n",
      "            (= x Epoch!val!0)))\n",
      ";; -----------\n",
      ";; universe for Node:\n",
      ";;   Node!val!0 Node!val!1 Node!val!2 \n",
      ";; -----------\n",
      ";; definitions for universe elements:\n",
      "(declare-fun Node!val!0 () Node)\n",
      "(declare-fun Node!val!1 () Node)\n",
      "(declare-fun Node!val!2 () Node)\n",
      ";; cardinality constraint:\n",
      "(forall ((x Node)) (or (= x Node!val!0) (= x Node!val!1) (= x Node!val!2)))\n",
      ";; -----------\n",
      "(define-fun zero () Epoch\n",
      "  Epoch!val!3)\n",
      "(define-fun one () Epoch\n",
      "  Epoch!val!4)\n",
      "(define-fun pre.locked ((x!0 Epoch) (x!1 Node)) Bool\n",
      "  true)\n",
      "(define-fun le ((x!0 Epoch) (x!1 Epoch)) Bool\n",
      "  (or (and (= x!0 Epoch!val!4)\n",
      "           (not (= x!0 Epoch!val!0))\n",
      "           (not (= x!0 Epoch!val!2))\n",
      "           (not (= x!0 Epoch!val!3))\n",
      "           (not (= x!0 Epoch!val!5))\n",
      "           (= x!1 Epoch!val!4)\n",
      "           (not (= x!1 Epoch!val!0))\n",
      "           (not (= x!1 Epoch!val!2))\n",
      "           (not (= x!1 Epoch!val!3))\n",
      "           (not (= x!1 Epoch!val!5)))\n",
      "      (and (= x!0 Epoch!val!0)\n",
      "           (not (= x!0 Epoch!val!2))\n",
      "           (not (= x!0 Epoch!val!3))\n",
      "           (not (= x!0 Epoch!val!5))\n",
      "           (= x!1 Epoch!val!4)\n",
      "           (not (= x!1 Epoch!val!0))\n",
      "           (not (= x!1 Epoch!val!2))\n",
      "           (not (= x!1 Epoch!val!3))\n",
      "           (not (= x!1 Epoch!val!5)))\n",
      "      (and (= x!0 Epoch!val!3)\n",
      "           (not (= x!0 Epoch!val!5))\n",
      "           (= x!1 Epoch!val!2)\n",
      "           (not (= x!1 Epoch!val!3))\n",
      "           (not (= x!1 Epoch!val!5)))\n",
      "      (and (= x!0 Epoch!val!5)\n",
      "           (= x!1 Epoch!val!2)\n",
      "           (not (= x!1 Epoch!val!3))\n",
      "           (not (= x!1 Epoch!val!5)))\n",
      "      (and (not (= x!0 Epoch!val!4))\n",
      "           (not (= x!0 Epoch!val!0))\n",
      "           (not (= x!0 Epoch!val!2))\n",
      "           (not (= x!0 Epoch!val!3))\n",
      "           (not (= x!0 Epoch!val!5))\n",
      "           (not (= x!1 Epoch!val!4))\n",
      "           (not (= x!1 Epoch!val!0))\n",
      "           (not (= x!1 Epoch!val!2))\n",
      "           (not (= x!1 Epoch!val!3))\n",
      "           (not (= x!1 Epoch!val!5)))\n",
      "      (and (not (= x!0 Epoch!val!4))\n",
      "           (not (= x!0 Epoch!val!0))\n",
      "           (not (= x!0 Epoch!val!2))\n",
      "           (not (= x!0 Epoch!val!3))\n",
      "           (not (= x!0 Epoch!val!5))\n",
      "           (= x!1 Epoch!val!4)\n",
      "           (not (= x!1 Epoch!val!0))\n",
      "           (not (= x!1 Epoch!val!2))\n",
      "           (not (= x!1 Epoch!val!3))\n",
      "           (not (= x!1 Epoch!val!5)))\n",
      "      (and (= x!0 Epoch!val!0)\n",
      "           (not (= x!0 Epoch!val!2))\n",
      "           (not (= x!0 Epoch!val!3))\n",
      "           (not (= x!0 Epoch!val!5))\n",
      "           (= x!1 Epoch!val!5))\n",
      "      (and (= x!0 Epoch!val!0)\n",
      "           (not (= x!0 Epoch!val!2))\n",
      "           (not (= x!0 Epoch!val!3))\n",
      "           (not (= x!0 Epoch!val!5))\n",
      "           (= x!1 Epoch!val!2)\n",
      "           (not (= x!1 Epoch!val!3))\n",
      "           (not (= x!1 Epoch!val!5)))\n",
      "      (and (= x!0 Epoch!val!2)\n",
      "           (not (= x!0 Epoch!val!3))\n",
      "           (not (= x!0 Epoch!val!5))\n",
      "           (= x!1 Epoch!val!2)\n",
      "           (not (= x!1 Epoch!val!3))\n",
      "           (not (= x!1 Epoch!val!5)))\n",
      "      (and (not (= x!0 Epoch!val!4))\n",
      "           (not (= x!0 Epoch!val!0))\n",
      "           (not (= x!0 Epoch!val!2))\n",
      "           (not (= x!0 Epoch!val!3))\n",
      "           (not (= x!0 Epoch!val!5))\n",
      "           (= x!1 Epoch!val!0)\n",
      "           (not (= x!1 Epoch!val!2))\n",
      "           (not (= x!1 Epoch!val!3))\n",
      "           (not (= x!1 Epoch!val!5)))\n",
      "      (and (not (= x!0 Epoch!val!4))\n",
      "           (not (= x!0 Epoch!val!0))\n",
      "           (not (= x!0 Epoch!val!2))\n",
      "           (not (= x!0 Epoch!val!3))\n",
      "           (not (= x!0 Epoch!val!5))\n",
      "           (= x!1 Epoch!val!2)\n",
      "           (not (= x!1 Epoch!val!3))\n",
      "           (not (= x!1 Epoch!val!5)))\n",
      "      (and (= x!0 Epoch!val!3)\n",
      "           (not (= x!0 Epoch!val!5))\n",
      "           (= x!1 Epoch!val!3)\n",
      "           (not (= x!1 Epoch!val!5)))\n",
      "      (and (= x!0 Epoch!val!0)\n",
      "           (not (= x!0 Epoch!val!2))\n",
      "           (not (= x!0 Epoch!val!3))\n",
      "           (not (= x!0 Epoch!val!5))\n",
      "           (= x!1 Epoch!val!0)\n",
      "           (not (= x!1 Epoch!val!2))\n",
      "           (not (= x!1 Epoch!val!3))\n",
      "           (not (= x!1 Epoch!val!5)))\n",
      "      (and (= x!0 Epoch!val!4)\n",
      "           (not (= x!0 Epoch!val!0))\n",
      "           (not (= x!0 Epoch!val!2))\n",
      "           (not (= x!0 Epoch!val!3))\n",
      "           (not (= x!0 Epoch!val!5))\n",
      "           (= x!1 Epoch!val!2)\n",
      "           (not (= x!1 Epoch!val!3))\n",
      "           (not (= x!1 Epoch!val!5)))\n",
      "      (and (= x!0 Epoch!val!3) (not (= x!0 Epoch!val!5)) (= x!1 Epoch!val!5))\n",
      "      (and (= x!0 Epoch!val!5)\n",
      "           (= x!1 Epoch!val!4)\n",
      "           (not (= x!1 Epoch!val!0))\n",
      "           (not (= x!1 Epoch!val!2))\n",
      "           (not (= x!1 Epoch!val!3))\n",
      "           (not (= x!1 Epoch!val!5)))\n",
      "      (and (= x!0 Epoch!val!3)\n",
      "           (not (= x!0 Epoch!val!5))\n",
      "           (not (= x!1 Epoch!val!4))\n",
      "           (not (= x!1 Epoch!val!0))\n",
      "           (not (= x!1 Epoch!val!2))\n",
      "           (not (= x!1 Epoch!val!3))\n",
      "           (not (= x!1 Epoch!val!5)))\n",
      "      (and (= x!0 Epoch!val!5) (= x!1 Epoch!val!5))\n",
      "      (and (= x!0 Epoch!val!3)\n",
      "           (not (= x!0 Epoch!val!5))\n",
      "           (= x!1 Epoch!val!0)\n",
      "           (not (= x!1 Epoch!val!2))\n",
      "           (not (= x!1 Epoch!val!3))\n",
      "           (not (= x!1 Epoch!val!5)))\n",
      "      (and (not (= x!0 Epoch!val!4))\n",
      "           (not (= x!0 Epoch!val!0))\n",
      "           (not (= x!0 Epoch!val!2))\n",
      "           (not (= x!0 Epoch!val!3))\n",
      "           (not (= x!0 Epoch!val!5))\n",
      "           (= x!1 Epoch!val!5))\n",
      "      (and (= x!0 Epoch!val!3)\n",
      "           (not (= x!0 Epoch!val!5))\n",
      "           (= x!1 Epoch!val!4)\n",
      "           (not (= x!1 Epoch!val!0))\n",
      "           (not (= x!1 Epoch!val!2))\n",
      "           (not (= x!1 Epoch!val!3))\n",
      "           (not (= x!1 Epoch!val!5)))))\n",
      "(define-fun pre.ep ((x!0 Node)) Epoch\n",
      "  Epoch!val!2)\n",
      "(define-fun init.ep ((x!0 Node)) Epoch\n",
      "  Epoch!val!1)\n"
     ]
    }
   ],
   "source": [
    "m = solver.model()\n",
    "print(m.sexpr())"
   ]
  },
  {
   "cell_type": "markdown",
   "metadata": {},
   "source": [
    "Another way to access the counter example model is as shown below:"
   ]
  },
  {
   "cell_type": "code",
   "execution_count": 57,
   "metadata": {},
   "outputs": [
    {
     "name": "stdout",
     "output_type": "stream",
     "text": [
      "{'zero': Epoch!val!5, 'one': Epoch!val!6, 'le': [else ->\n",
      " Or(And(Not(Var(0) == Epoch!val!0),\n",
      "        Not(Var(0) == Epoch!val!6),\n",
      "        Not(Var(0) == Epoch!val!2),\n",
      "        Not(Var(0) == Epoch!val!3),\n",
      "        Not(Var(0) == Epoch!val!5),\n",
      "        Not(Var(0) == Epoch!val!4),\n",
      "        Not(Var(1) == Epoch!val!0),\n",
      "        Not(Var(1) == Epoch!val!6),\n",
      "        Not(Var(1) == Epoch!val!2),\n",
      "        Not(Var(1) == Epoch!val!3),\n",
      "        Not(Var(1) == Epoch!val!5),\n",
      "        Not(Var(1) == Epoch!val!4)),\n",
      "    And(Var(0) == Epoch!val!4,\n",
      "        Var(1) == Epoch!val!3,\n",
      "        Not(Var(1) == Epoch!val!5),\n",
      "        Not(Var(1) == Epoch!val!4)),\n",
      "    And(Var(0) == Epoch!val!6,\n",
      "        Not(Var(0) == Epoch!val!2),\n",
      "        Not(Var(0) == Epoch!val!3),\n",
      "        Not(Var(0) == Epoch!val!5),\n",
      "        Not(Var(0) == Epoch!val!4),\n",
      "        Not(Var(1) == Epoch!val!0),\n",
      "        Not(Var(1) == Epoch!val!6),\n",
      "        Not(Var(1) == Epoch!val!2),\n",
      "        Not(Var(1) == Epoch!val!3),\n",
      "        Not(Var(1) == Epoch!val!5),\n",
      "        Not(Var(1) == Epoch!val!4)),\n",
      "    And(Var(0) == Epoch!val!4,\n",
      "        Var(1) == Epoch!val!0,\n",
      "        Not(Var(1) == Epoch!val!6),\n",
      "        Not(Var(1) == Epoch!val!2),\n",
      "        Not(Var(1) == Epoch!val!3),\n",
      "        Not(Var(1) == Epoch!val!5),\n",
      "        Not(Var(1) == Epoch!val!4)),\n",
      "    And(Var(0) == Epoch!val!5,\n",
      "        Not(Var(0) == Epoch!val!4),\n",
      "        Var(1) == Epoch!val!6,\n",
      "        Not(Var(1) == Epoch!val!2),\n",
      "        Not(Var(1) == Epoch!val!3),\n",
      "        Not(Var(1) == Epoch!val!5),\n",
      "        Not(Var(1) == Epoch!val!4)),\n",
      "    And(Var(0) == Epoch!val!2,\n",
      "        Not(Var(0) == Epoch!val!3),\n",
      "        Not(Var(0) == Epoch!val!5),\n",
      "        Not(Var(0) == Epoch!val!4),\n",
      "        Var(1) == Epoch!val!2,\n",
      "        Not(Var(1) == Epoch!val!3),\n",
      "        Not(Var(1) == Epoch!val!5),\n",
      "        Not(Var(1) == Epoch!val!4)),\n",
      "    And(Var(0) == Epoch!val!4,\n",
      "        Not(Var(1) == Epoch!val!0),\n",
      "        Not(Var(1) == Epoch!val!6),\n",
      "        Not(Var(1) == Epoch!val!2),\n",
      "        Not(Var(1) == Epoch!val!3),\n",
      "        Not(Var(1) == Epoch!val!5),\n",
      "        Not(Var(1) == Epoch!val!4)),\n",
      "    And(Var(0) == Epoch!val!2,\n",
      "        Not(Var(0) == Epoch!val!3),\n",
      "        Not(Var(0) == Epoch!val!5),\n",
      "        Not(Var(0) == Epoch!val!4),\n",
      "        Var(1) == Epoch!val!3,\n",
      "        Not(Var(1) == Epoch!val!5),\n",
      "        Not(Var(1) == Epoch!val!4)),\n",
      "    And(Var(0) == Epoch!val!2,\n",
      "        Not(Var(0) == Epoch!val!3),\n",
      "        Not(Var(0) == Epoch!val!5),\n",
      "        Not(Var(0) == Epoch!val!4),\n",
      "        Not(Var(1) == Epoch!val!0),\n",
      "        Not(Var(1) == Epoch!val!6),\n",
      "        Not(Var(1) == Epoch!val!2),\n",
      "        Not(Var(1) == Epoch!val!3),\n",
      "        Not(Var(1) == Epoch!val!5),\n",
      "        Not(Var(1) == Epoch!val!4)),\n",
      "    And(Var(0) == Epoch!val!6,\n",
      "        Not(Var(0) == Epoch!val!2),\n",
      "        Not(Var(0) == Epoch!val!3),\n",
      "        Not(Var(0) == Epoch!val!5),\n",
      "        Not(Var(0) == Epoch!val!4),\n",
      "        Var(1) == Epoch!val!3,\n",
      "        Not(Var(1) == Epoch!val!5),\n",
      "        Not(Var(1) == Epoch!val!4)),\n",
      "    And(Var(0) == Epoch!val!6,\n",
      "        Not(Var(0) == Epoch!val!2),\n",
      "        Not(Var(0) == Epoch!val!3),\n",
      "        Not(Var(0) == Epoch!val!5),\n",
      "        Not(Var(0) == Epoch!val!4),\n",
      "        Var(1) == Epoch!val!4),\n",
      "    And(Var(0) == Epoch!val!3,\n",
      "        Not(Var(0) == Epoch!val!5),\n",
      "        Not(Var(0) == Epoch!val!4),\n",
      "        Var(1) == Epoch!val!3,\n",
      "        Not(Var(1) == Epoch!val!5),\n",
      "        Not(Var(1) == Epoch!val!4)),\n",
      "    And(Var(0) == Epoch!val!6,\n",
      "        Not(Var(0) == Epoch!val!2),\n",
      "        Not(Var(0) == Epoch!val!3),\n",
      "        Not(Var(0) == Epoch!val!5),\n",
      "        Not(Var(0) == Epoch!val!4),\n",
      "        Var(1) == Epoch!val!2,\n",
      "        Not(Var(1) == Epoch!val!3),\n",
      "        Not(Var(1) == Epoch!val!5),\n",
      "        Not(Var(1) == Epoch!val!4)),\n",
      "    And(Var(0) == Epoch!val!5,\n",
      "        Not(Var(0) == Epoch!val!4),\n",
      "        Var(1) == Epoch!val!4),\n",
      "    And(Var(0) == Epoch!val!5,\n",
      "        Not(Var(0) == Epoch!val!4),\n",
      "        Var(1) == Epoch!val!5,\n",
      "        Not(Var(1) == Epoch!val!4)),\n",
      "    And(Var(0) == Epoch!val!3,\n",
      "        Not(Var(0) == Epoch!val!5),\n",
      "        Not(Var(0) == Epoch!val!4),\n",
      "        Var(1) == Epoch!val!0,\n",
      "        Not(Var(1) == Epoch!val!6),\n",
      "        Not(Var(1) == Epoch!val!2),\n",
      "        Not(Var(1) == Epoch!val!3),\n",
      "        Not(Var(1) == Epoch!val!5),\n",
      "        Not(Var(1) == Epoch!val!4)),\n",
      "    And(Not(Var(0) == Epoch!val!0),\n",
      "        Not(Var(0) == Epoch!val!6),\n",
      "        Not(Var(0) == Epoch!val!2),\n",
      "        Not(Var(0) == Epoch!val!3),\n",
      "        Not(Var(0) == Epoch!val!5),\n",
      "        Not(Var(0) == Epoch!val!4),\n",
      "        Var(1) == Epoch!val!0,\n",
      "        Not(Var(1) == Epoch!val!6),\n",
      "        Not(Var(1) == Epoch!val!2),\n",
      "        Not(Var(1) == Epoch!val!3),\n",
      "        Not(Var(1) == Epoch!val!5),\n",
      "        Not(Var(1) == Epoch!val!4)),\n",
      "    And(Var(0) == Epoch!val!2,\n",
      "        Not(Var(0) == Epoch!val!3),\n",
      "        Not(Var(0) == Epoch!val!5),\n",
      "        Not(Var(0) == Epoch!val!4),\n",
      "        Var(1) == Epoch!val!0,\n",
      "        Not(Var(1) == Epoch!val!6),\n",
      "        Not(Var(1) == Epoch!val!2),\n",
      "        Not(Var(1) == Epoch!val!3),\n",
      "        Not(Var(1) == Epoch!val!5),\n",
      "        Not(Var(1) == Epoch!val!4)),\n",
      "    And(Var(0) == Epoch!val!5,\n",
      "        Not(Var(0) == Epoch!val!4),\n",
      "        Not(Var(1) == Epoch!val!0),\n",
      "        Not(Var(1) == Epoch!val!6),\n",
      "        Not(Var(1) == Epoch!val!2),\n",
      "        Not(Var(1) == Epoch!val!3),\n",
      "        Not(Var(1) == Epoch!val!5),\n",
      "        Not(Var(1) == Epoch!val!4)),\n",
      "    And(Var(0) == Epoch!val!0,\n",
      "        Not(Var(0) == Epoch!val!6),\n",
      "        Not(Var(0) == Epoch!val!2),\n",
      "        Not(Var(0) == Epoch!val!3),\n",
      "        Not(Var(0) == Epoch!val!5),\n",
      "        Not(Var(0) == Epoch!val!4),\n",
      "        Var(1) == Epoch!val!0,\n",
      "        Not(Var(1) == Epoch!val!6),\n",
      "        Not(Var(1) == Epoch!val!2),\n",
      "        Not(Var(1) == Epoch!val!3),\n",
      "        Not(Var(1) == Epoch!val!5),\n",
      "        Not(Var(1) == Epoch!val!4)),\n",
      "    And(Var(0) == Epoch!val!5,\n",
      "        Not(Var(0) == Epoch!val!4),\n",
      "        Var(1) == Epoch!val!3,\n",
      "        Not(Var(1) == Epoch!val!5),\n",
      "        Not(Var(1) == Epoch!val!4)),\n",
      "    And(Var(0) == Epoch!val!5,\n",
      "        Not(Var(0) == Epoch!val!4),\n",
      "        Var(1) == Epoch!val!2,\n",
      "        Not(Var(1) == Epoch!val!3),\n",
      "        Not(Var(1) == Epoch!val!5),\n",
      "        Not(Var(1) == Epoch!val!4)),\n",
      "    And(Var(0) == Epoch!val!6,\n",
      "        Not(Var(0) == Epoch!val!2),\n",
      "        Not(Var(0) == Epoch!val!3),\n",
      "        Not(Var(0) == Epoch!val!5),\n",
      "        Not(Var(0) == Epoch!val!4),\n",
      "        Var(1) == Epoch!val!0,\n",
      "        Not(Var(1) == Epoch!val!6),\n",
      "        Not(Var(1) == Epoch!val!2),\n",
      "        Not(Var(1) == Epoch!val!3),\n",
      "        Not(Var(1) == Epoch!val!5),\n",
      "        Not(Var(1) == Epoch!val!4)),\n",
      "    And(Var(0) == Epoch!val!6,\n",
      "        Not(Var(0) == Epoch!val!2),\n",
      "        Not(Var(0) == Epoch!val!3),\n",
      "        Not(Var(0) == Epoch!val!5),\n",
      "        Not(Var(0) == Epoch!val!4),\n",
      "        Var(1) == Epoch!val!6,\n",
      "        Not(Var(1) == Epoch!val!2),\n",
      "        Not(Var(1) == Epoch!val!3),\n",
      "        Not(Var(1) == Epoch!val!5),\n",
      "        Not(Var(1) == Epoch!val!4)),\n",
      "    And(Var(0) == Epoch!val!4, Var(1) == Epoch!val!4),\n",
      "    And(Var(0) == Epoch!val!4,\n",
      "        Var(1) == Epoch!val!2,\n",
      "        Not(Var(1) == Epoch!val!3),\n",
      "        Not(Var(1) == Epoch!val!5),\n",
      "        Not(Var(1) == Epoch!val!4)),\n",
      "    And(Var(0) == Epoch!val!5,\n",
      "        Not(Var(0) == Epoch!val!4),\n",
      "        Var(1) == Epoch!val!0,\n",
      "        Not(Var(1) == Epoch!val!6),\n",
      "        Not(Var(1) == Epoch!val!2),\n",
      "        Not(Var(1) == Epoch!val!3),\n",
      "        Not(Var(1) == Epoch!val!5),\n",
      "        Not(Var(1) == Epoch!val!4)),\n",
      "    And(Var(0) == Epoch!val!3,\n",
      "        Not(Var(0) == Epoch!val!5),\n",
      "        Not(Var(0) == Epoch!val!4),\n",
      "        Not(Var(1) == Epoch!val!0),\n",
      "        Not(Var(1) == Epoch!val!6),\n",
      "        Not(Var(1) == Epoch!val!2),\n",
      "        Not(Var(1) == Epoch!val!3),\n",
      "        Not(Var(1) == Epoch!val!5),\n",
      "        Not(Var(1) == Epoch!val!4)))], 'pre.ep': [else -> Epoch!val!1], 'init.ep': [else -> Epoch!val!3], 'pre.locked': [else -> True]}\n"
     ]
    }
   ],
   "source": [
    "interp = M.get_interp(m)\n",
    "set_param(max_lines=1000)\n",
    "print(interp)"
   ]
  },
  {
   "cell_type": "markdown",
   "metadata": {},
   "source": [
    "## Full verification"
   ]
  },
  {
   "cell_type": "markdown",
   "metadata": {},
   "source": [
    "This code below first checks if all the invariants produced by DistAI:\n",
    "- Satisfy the initial state\n",
    "- Imply Safety\n",
    "- Are inductive"
   ]
  },
  {
   "cell_type": "code",
   "execution_count": 61,
   "metadata": {},
   "outputs": [
    {
     "data": {
      "text/html": [
       "<b>unsat</b>"
      ],
      "text/plain": [
       "unsat"
      ]
     },
     "execution_count": 61,
     "metadata": {},
     "output_type": "execute_result"
    }
   ],
   "source": [
    "M = DistLockModel()\n",
    "S1 = M.get_state('pre')\n",
    "S2 = M.get_state('post')\n",
    "\n",
    "inv = lambda M, S: And(*[inv(M, S) for inv in all_invars])\n",
    "\n",
    "solver = Solver()\n",
    "solver.add(Not(And(\n",
    "    get_init_vc(M, inv),\n",
    "    # get_safety_vc(M, S1, inv, get_safety_inv)\n",
    "    # get_inductiveness_vc(M, S1, get_accept_action, S2, inv)\n",
    ")))\n",
    "solver.check()"
   ]
  },
  {
   "cell_type": "markdown",
   "metadata": {},
   "source": [
    "Yay, invariants satisfy the initial conditions"
   ]
  },
  {
   "cell_type": "code",
   "execution_count": 62,
   "metadata": {},
   "outputs": [
    {
     "data": {
      "text/html": [
       "<b>unsat</b>"
      ],
      "text/plain": [
       "unsat"
      ]
     },
     "execution_count": 62,
     "metadata": {},
     "output_type": "execute_result"
    }
   ],
   "source": [
    "M = DistLockModel()\n",
    "S1 = M.get_state('pre')\n",
    "S2 = M.get_state('post')\n",
    "\n",
    "inv = lambda M, S: And(*[inv(M, S) for inv in all_invars])\n",
    "\n",
    "solver = Solver()\n",
    "solver.add(Not(And(\n",
    "    # get_init_vc(M, inv),\n",
    "    get_safety_vc(M, S1, inv, get_safety_inv)\n",
    "    # get_inductiveness_vc(M, S1, get_accept_action, S2, inv)\n",
    ")))\n",
    "solver.check()"
   ]
  },
  {
   "cell_type": "markdown",
   "metadata": {},
   "source": [
    "Yay, invariants imply the safety condition"
   ]
  },
  {
   "cell_type": "code",
   "execution_count": 63,
   "metadata": {},
   "outputs": [
    {
     "data": {
      "text/html": [
       "<b>unknown</b>"
      ],
      "text/plain": [
       "unknown"
      ]
     },
     "execution_count": 63,
     "metadata": {},
     "output_type": "execute_result"
    }
   ],
   "source": [
    "M = DistLockModel()\n",
    "S1 = M.get_state('pre')\n",
    "S2 = M.get_state('post')\n",
    "\n",
    "inv = lambda M, S: And(*[inv(M, S) for inv in all_invars])\n",
    "\n",
    "solver = Solver()\n",
    "solver.add(Not(And(\n",
    "    # get_init_vc(M, inv),\n",
    "    # get_safety_vc(M, S1, inv, get_safety_inv)\n",
    "    get_inductiveness_vc(M, S1, get_accept_action, S2, inv)\n",
    ")))\n",
    "solver.check()"
   ]
  },
  {
   "cell_type": "markdown",
   "metadata": {},
   "source": [
    "And....Z3 chokes on the inductive invariants (wrt the accept action)"
   ]
  },
  {
   "cell_type": "code",
   "execution_count": 130,
   "metadata": {},
   "outputs": [
    {
     "data": {
      "text/html": [
       "<b>unknown</b>"
      ],
      "text/plain": [
       "unknown"
      ]
     },
     "execution_count": 130,
     "metadata": {},
     "output_type": "execute_result"
    }
   ],
   "source": [
    "M = DistLockModel()\n",
    "S1 = M.get_state('pre')\n",
    "S2 = M.get_state('post')\n",
    "\n",
    "inv = lambda M, S: And(*[inv(M, S) for inv in all_invars])\n",
    "\n",
    "solver = Solver()\n",
    "solver.add(Not(And(\n",
    "    # get_init_vc(M, inv),\n",
    "    # get_safety_vc(M, S1, inv, get_safety_inv)\n",
    "    get_inductiveness_vc(M, S1, get_grant_action, S2, inv)\n",
    ")))\n",
    "solver.check()"
   ]
  },
  {
   "cell_type": "markdown",
   "metadata": {},
   "source": [
    "It also chokes on the inductive invariants (wrt the grant action)"
   ]
  },
  {
   "cell_type": "markdown",
   "metadata": {},
   "source": []
  }
 ],
 "metadata": {
  "interpreter": {
   "hash": "7d3b008de750d86f6d8cf03c58ff2c3358cb2910fdd34da3c87349ecb5bdd54c"
  },
  "kernelspec": {
   "display_name": "Python 3.8.10 64-bit ('angr': virtualenv)",
   "language": "python",
   "name": "python3"
  },
  "language_info": {
   "codemirror_mode": {
    "name": "ipython",
    "version": 3
   },
   "file_extension": ".py",
   "mimetype": "text/x-python",
   "name": "python",
   "nbconvert_exporter": "python",
   "pygments_lexer": "ipython3",
   "version": "3.8.10"
  },
  "orig_nbformat": 4
 },
 "nbformat": 4,
 "nbformat_minor": 2
}
